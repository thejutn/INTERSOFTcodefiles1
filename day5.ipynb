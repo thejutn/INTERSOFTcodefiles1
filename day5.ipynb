{
  "nbformat": 4,
  "nbformat_minor": 0,
  "metadata": {
    "colab": {
      "name": "day5.ipynb",
      "provenance": []
    },
    "kernelspec": {
      "name": "python3",
      "display_name": "Python 3"
    },
    "language_info": {
      "name": "python"
    }
  },
  "cells": [
    {
      "cell_type": "code",
      "metadata": {
        "colab": {
          "base_uri": "https://localhost:8080/"
        },
        "id": "mhQ-Q1gPrqrQ",
        "outputId": "39a5b2d5-2693-4d1c-8f04-f4b7d92f42cb"
      },
      "source": [
        "import math\n",
        "math.ceil(2.4)"
      ],
      "execution_count": 7,
      "outputs": [
        {
          "output_type": "execute_result",
          "data": {
            "text/plain": [
              "3"
            ]
          },
          "metadata": {
            "tags": []
          },
          "execution_count": 7
        }
      ]
    },
    {
      "cell_type": "code",
      "metadata": {
        "colab": {
          "base_uri": "https://localhost:8080/"
        },
        "id": "D-G7ZISfsVzT",
        "outputId": "bb48dd5f-27d5-4548-89f3-8c851cbc9fa6"
      },
      "source": [
        "print(dir(math))"
      ],
      "execution_count": 8,
      "outputs": [
        {
          "output_type": "stream",
          "text": [
            "['__doc__', '__loader__', '__name__', '__package__', '__spec__', 'acos', 'acosh', 'asin', 'asinh', 'atan', 'atan2', 'atanh', 'ceil', 'copysign', 'cos', 'cosh', 'degrees', 'e', 'erf', 'erfc', 'exp', 'expm1', 'fabs', 'factorial', 'floor', 'fmod', 'frexp', 'fsum', 'gamma', 'gcd', 'hypot', 'inf', 'isclose', 'isfinite', 'isinf', 'isnan', 'ldexp', 'lgamma', 'log', 'log10', 'log1p', 'log2', 'modf', 'nan', 'pi', 'pow', 'radians', 'remainder', 'sin', 'sinh', 'sqrt', 'tan', 'tanh', 'tau', 'trunc']\n"
          ],
          "name": "stdout"
        }
      ]
    },
    {
      "cell_type": "code",
      "metadata": {
        "colab": {
          "base_uri": "https://localhost:8080/"
        },
        "id": "4PN4NDRqsWK0",
        "outputId": "8c0a77ca-a0d6-4b71-e631-68cb0bafc03d"
      },
      "source": [
        "help(math.ceil)"
      ],
      "execution_count": 9,
      "outputs": [
        {
          "output_type": "stream",
          "text": [
            "Help on built-in function ceil in module math:\n",
            "\n",
            "ceil(x, /)\n",
            "    Return the ceiling of x as an Integral.\n",
            "    \n",
            "    This is the smallest integer >= x.\n",
            "\n"
          ],
          "name": "stdout"
        }
      ]
    },
    {
      "cell_type": "code",
      "metadata": {
        "colab": {
          "base_uri": "https://localhost:8080/",
          "height": 299
        },
        "id": "Q4Phokr2sbBh",
        "outputId": "7edf39fa-5a71-4493-849e-36500a1dd60f"
      },
      "source": [
        "import foo.bar"
      ],
      "execution_count": 10,
      "outputs": [
        {
          "output_type": "error",
          "ename": "ModuleNotFoundError",
          "evalue": "ignored",
          "traceback": [
            "\u001b[0;31m---------------------------------------------------------------------------\u001b[0m",
            "\u001b[0;31mModuleNotFoundError\u001b[0m                       Traceback (most recent call last)",
            "\u001b[0;32m<ipython-input-10-55da487b42c6>\u001b[0m in \u001b[0;36m<module>\u001b[0;34m()\u001b[0m\n\u001b[0;32m----> 1\u001b[0;31m \u001b[0;32mimport\u001b[0m \u001b[0mfoo\u001b[0m\u001b[0;34m.\u001b[0m\u001b[0mbar\u001b[0m\u001b[0;34m\u001b[0m\u001b[0;34m\u001b[0m\u001b[0m\n\u001b[0m",
            "\u001b[0;31mModuleNotFoundError\u001b[0m: No module named 'foo'",
            "",
            "\u001b[0;31m---------------------------------------------------------------------------\u001b[0;32m\nNOTE: If your import is failing due to a missing package, you can\nmanually install dependencies using either !pip or !apt.\n\nTo view examples of installing some common dependencies, click the\n\"Open Examples\" button below.\n\u001b[0;31m---------------------------------------------------------------------------\u001b[0m\n"
          ]
        }
      ]
    },
    {
      "cell_type": "code",
      "metadata": {
        "colab": {
          "base_uri": "https://localhost:8080/",
          "height": 299
        },
        "id": "ZWheHWtWsbiF",
        "outputId": "42167ec9-9788-4b32-e028-15454d15cf6a"
      },
      "source": [
        "from foo import bar"
      ],
      "execution_count": 11,
      "outputs": [
        {
          "output_type": "error",
          "ename": "ModuleNotFoundError",
          "evalue": "ignored",
          "traceback": [
            "\u001b[0;31m---------------------------------------------------------------------------\u001b[0m",
            "\u001b[0;31mModuleNotFoundError\u001b[0m                       Traceback (most recent call last)",
            "\u001b[0;32m<ipython-input-11-17c8219278ab>\u001b[0m in \u001b[0;36m<module>\u001b[0;34m()\u001b[0m\n\u001b[0;32m----> 1\u001b[0;31m \u001b[0;32mfrom\u001b[0m \u001b[0mfoo\u001b[0m \u001b[0;32mimport\u001b[0m \u001b[0mbar\u001b[0m\u001b[0;34m\u001b[0m\u001b[0;34m\u001b[0m\u001b[0m\n\u001b[0m",
            "\u001b[0;31mModuleNotFoundError\u001b[0m: No module named 'foo'",
            "",
            "\u001b[0;31m---------------------------------------------------------------------------\u001b[0;32m\nNOTE: If your import is failing due to a missing package, you can\nmanually install dependencies using either !pip or !apt.\n\nTo view examples of installing some common dependencies, click the\n\"Open Examples\" button below.\n\u001b[0;31m---------------------------------------------------------------------------\u001b[0m\n"
          ]
        }
      ]
    },
    {
      "cell_type": "code",
      "metadata": {
        "colab": {
          "base_uri": "https://localhost:8080/",
          "height": 129
        },
        "id": "Wd8FIEs7sb4t",
        "outputId": "6410f94a-8370-415f-ea75-4c5e4a7b703b"
      },
      "source": [
        "__init__.py:\n",
        "\n",
        "__all__ = [\"bar\"]"
      ],
      "execution_count": 12,
      "outputs": [
        {
          "output_type": "error",
          "ename": "SyntaxError",
          "evalue": "ignored",
          "traceback": [
            "\u001b[0;36m  File \u001b[0;32m\"<ipython-input-12-45d8bf1c62c0>\"\u001b[0;36m, line \u001b[0;32m1\u001b[0m\n\u001b[0;31m    __init__.py:\u001b[0m\n\u001b[0m                ^\u001b[0m\n\u001b[0;31mSyntaxError\u001b[0m\u001b[0;31m:\u001b[0m invalid syntax\n"
          ]
        }
      ]
    },
    {
      "cell_type": "code",
      "metadata": {
        "colab": {
          "base_uri": "https://localhost:8080/",
          "height": 129
        },
        "id": "Htvc78rIsqZm",
        "outputId": "908d9dee-d414-4746-f2ea-c76849b18351"
      },
      "source": [
        "print('Hello)"
      ],
      "execution_count": 13,
      "outputs": [
        {
          "output_type": "error",
          "ename": "SyntaxError",
          "evalue": "ignored",
          "traceback": [
            "\u001b[0;36m  File \u001b[0;32m\"<ipython-input-13-db8c9988558c>\"\u001b[0;36m, line \u001b[0;32m1\u001b[0m\n\u001b[0;31m    print('Hello)\u001b[0m\n\u001b[0m                 ^\u001b[0m\n\u001b[0;31mSyntaxError\u001b[0m\u001b[0;31m:\u001b[0m EOL while scanning string literal\n"
          ]
        }
      ]
    },
    {
      "cell_type": "code",
      "metadata": {
        "colab": {
          "base_uri": "https://localhost:8080/"
        },
        "id": "n5xZy7Pvsqzt",
        "outputId": "cb8fec0e-e9db-4110-d067-230af13f4fb6"
      },
      "source": [
        "try:\n",
        "    f = open('testfile','w')\n",
        "    f.write('Test write this')\n",
        "except IOError:\n",
        "    # This will only check for an IOError exception and then execute this print statement\n",
        "   print(\"Error: Could not find file or read data\")\n",
        "else:\n",
        "   print(\"Content written successfully\")\n",
        "   f.close()"
      ],
      "execution_count": 14,
      "outputs": [
        {
          "output_type": "stream",
          "text": [
            "Content written successfully\n"
          ],
          "name": "stdout"
        }
      ]
    },
    {
      "cell_type": "code",
      "metadata": {
        "colab": {
          "base_uri": "https://localhost:8080/"
        },
        "id": "gnojL9hjsrsL",
        "outputId": "26dc5c4c-b418-4cb0-f4b6-8785af8c4ec2"
      },
      "source": [
        "try:\n",
        "   f = open(\"testfile\", \"w\")\n",
        "   f.write(\"Test write statement\")\n",
        "finally:\n",
        "   print(\"Always execute finally code blocks\")"
      ],
      "execution_count": 16,
      "outputs": [
        {
          "output_type": "stream",
          "text": [
            "Always execute finally code blocks\n"
          ],
          "name": "stdout"
        }
      ]
    },
    {
      "cell_type": "code",
      "metadata": {
        "id": "D5IkTRiZsl0u"
      },
      "source": [
        "def askint():\n",
        "        try:\n",
        "            val = int(input(\"Please enter an integer: \"))\n",
        "        except:\n",
        "            print(\"Looks like you did not enter an integer!\")\n",
        "            \n",
        "        finally:\n",
        "            print(\"Finally, I executed!\")\n",
        "        print(val)       "
      ],
      "execution_count": 18,
      "outputs": []
    },
    {
      "cell_type": "code",
      "metadata": {
        "colab": {
          "base_uri": "https://localhost:8080/"
        },
        "id": "a2QkS6xrsmNW",
        "outputId": "58f07f10-7780-4f9b-dbb8-3d4f584a5332"
      },
      "source": [
        "askint()"
      ],
      "execution_count": 19,
      "outputs": [
        {
          "output_type": "stream",
          "text": [
            "Please enter an integer: 4\n",
            "Finally, I executed!\n",
            "4\n"
          ],
          "name": "stdout"
        }
      ]
    },
    {
      "cell_type": "code",
      "metadata": {
        "id": "SKrZ_0hftMA9"
      },
      "source": [
        "def askint():\n",
        "        try:\n",
        "            val = int(input(\"Please enter an integer: \"))\n",
        "        except:\n",
        "            print(\"Looks like you did not enter an integer!\")\n",
        "            val = int(input(\"Try again-Please enter an integer: \"))\n",
        "        finally:\n",
        "            print(\"Finally, I executed!\")\n",
        "        print(val) "
      ],
      "execution_count": 20,
      "outputs": []
    },
    {
      "cell_type": "code",
      "metadata": {
        "colab": {
          "base_uri": "https://localhost:8080/"
        },
        "id": "f7381YXEtMZ4",
        "outputId": "55e407a6-6f78-44bb-ee82-ac33ccd64c49"
      },
      "source": [
        "askint()"
      ],
      "execution_count": 21,
      "outputs": [
        {
          "output_type": "stream",
          "text": [
            "Please enter an integer: hello\n",
            "Looks like you did not enter an integer!\n",
            "Try again-Please enter an integer: 12\n",
            "Finally, I executed!\n",
            "12\n"
          ],
          "name": "stdout"
        }
      ]
    },
    {
      "cell_type": "code",
      "metadata": {
        "colab": {
          "base_uri": "https://localhost:8080/"
        },
        "id": "baZSeeK3tMx5",
        "outputId": "c792b87f-f4bf-41aa-a595-bf9cf78f95c8"
      },
      "source": [
        "import sqlite3\n",
        "#connecting with the database.\n",
        "\n",
        "db = sqlite3.connect(\"my_database1.db\")\n",
        "\n",
        "# Drop table if it already exist using execute() method.\n",
        "db.execute(\"drop table if exists grades1\")\n",
        "\n",
        "# Create table as per requirement\n",
        "db.execute(\"create table grades1(id int, name text, score int)\")\n",
        "\n",
        "#inserting values inside the created table\n",
        "db.execute(\"insert into grades1(id, name, score) values(101, 'John',99 )\")\n",
        "db.execute(\"insert into grades1(id, name, score) values(102, 'Gary',90 )\")\n",
        "db.execute(\"insert into grades1(id, name, score) values(103, 'James', 80 )\")\n",
        "db.execute(\"insert into grades1(id, name, score) values(104, 'Cathy', 85 )\")\n",
        "db.execute(\"insert into grades1(id, name, score) values(105, 'Kris',95 )\")\n"
      ],
      "execution_count": 22,
      "outputs": [
        {
          "output_type": "execute_result",
          "data": {
            "text/plain": [
              "<sqlite3.Cursor at 0x7f6a4fe46ab0>"
            ]
          },
          "metadata": {
            "tags": []
          },
          "execution_count": 22
        }
      ]
    },
    {
      "cell_type": "code",
      "metadata": {
        "id": "7TAphnB3tg3n"
      },
      "source": [
        "db.commit()"
      ],
      "execution_count": 23,
      "outputs": []
    },
    {
      "cell_type": "code",
      "metadata": {
        "colab": {
          "base_uri": "https://localhost:8080/"
        },
        "id": "zkxRH1tpthN9",
        "outputId": "98a0e363-db1a-49c4-a3be-b60576be9b5d"
      },
      "source": [
        "results = db.execute(\"select * from grades1 order by id\")\n",
        "for row in results:\n",
        "    print(row)\n",
        "print(\"-\" * 60 )"
      ],
      "execution_count": 24,
      "outputs": [
        {
          "output_type": "stream",
          "text": [
            "(101, 'John', 99)\n",
            "(102, 'Gary', 90)\n",
            "(103, 'James', 80)\n",
            "(104, 'Cathy', 85)\n",
            "(105, 'Kris', 95)\n",
            "------------------------------------------------------------\n"
          ],
          "name": "stdout"
        }
      ]
    },
    {
      "cell_type": "code",
      "metadata": {
        "colab": {
          "base_uri": "https://localhost:8080/"
        },
        "id": "rB2POvKjtnrP",
        "outputId": "b5404cb3-73b4-4d6e-81db-03e1a108c48d"
      },
      "source": [
        "results = db.execute(\"select * from grades1 where name = 'Gary' \")\n",
        "for row in results:\n",
        "    print(row)\n",
        "print(\"-\" * 60 )"
      ],
      "execution_count": 25,
      "outputs": [
        {
          "output_type": "stream",
          "text": [
            "(102, 'Gary', 90)\n",
            "------------------------------------------------------------\n"
          ],
          "name": "stdout"
        }
      ]
    },
    {
      "cell_type": "code",
      "metadata": {
        "colab": {
          "base_uri": "https://localhost:8080/"
        },
        "id": "HE4_YRYBtoSd",
        "outputId": "c94cedb8-c154-4848-8033-ef6970a800b7"
      },
      "source": [
        "results = db.execute(\"select * from grades1 where score >= 90 \")\n",
        "for row in results:\n",
        "    print(row)\n",
        "print(\"-\" * 60 )"
      ],
      "execution_count": 26,
      "outputs": [
        {
          "output_type": "stream",
          "text": [
            "(101, 'John', 99)\n",
            "(102, 'Gary', 90)\n",
            "(105, 'Kris', 95)\n",
            "------------------------------------------------------------\n"
          ],
          "name": "stdout"
        }
      ]
    },
    {
      "cell_type": "code",
      "metadata": {
        "colab": {
          "base_uri": "https://localhost:8080/"
        },
        "id": "eG5wnWFUt2U8",
        "outputId": "e0ed9fdd-8b59-4350-f066-3bd13054913a"
      },
      "source": [
        "results = db.execute(\"select name, score from grades1 order by score desc \")\n",
        "for row in results:\n",
        "    print(row)\n",
        "print(\"-\" * 60 )"
      ],
      "execution_count": 27,
      "outputs": [
        {
          "output_type": "stream",
          "text": [
            "('John', 99)\n",
            "('Kris', 95)\n",
            "('Gary', 90)\n",
            "('Cathy', 85)\n",
            "('James', 80)\n",
            "------------------------------------------------------------\n"
          ],
          "name": "stdout"
        }
      ]
    },
    {
      "cell_type": "code",
      "metadata": {
        "colab": {
          "base_uri": "https://localhost:8080/"
        },
        "id": "mwqQuR1Qt2pq",
        "outputId": "32e36bb2-1749-4873-80f4-e5af0ef055f8"
      },
      "source": [
        "results = db.execute(\"select name, score from grades1 order by score\")\n",
        "for row in results:\n",
        "    print(row)\n",
        "print(\"-\" * 60 )"
      ],
      "execution_count": 28,
      "outputs": [
        {
          "output_type": "stream",
          "text": [
            "('James', 80)\n",
            "('Cathy', 85)\n",
            "('Gary', 90)\n",
            "('Kris', 95)\n",
            "('John', 99)\n",
            "------------------------------------------------------------\n"
          ],
          "name": "stdout"
        }
      ]
    },
    {
      "cell_type": "code",
      "metadata": {
        "colab": {
          "base_uri": "https://localhost:8080/"
        },
        "id": "XdRwRFuBtoqH",
        "outputId": "c230f84f-1b30-4a43-b5ff-7ba473ae0fe0"
      },
      "source": [
        "results = db.execute(\"select name, score from grades1 order by score\")\n",
        "for row in results:\n",
        "    print(row)"
      ],
      "execution_count": 29,
      "outputs": [
        {
          "output_type": "stream",
          "text": [
            "('James', 80)\n",
            "('Cathy', 85)\n",
            "('Gary', 90)\n",
            "('Kris', 95)\n",
            "('John', 99)\n"
          ],
          "name": "stdout"
        }
      ]
    }
  ]
}