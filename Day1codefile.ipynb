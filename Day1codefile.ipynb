{
  "nbformat": 4,
  "nbformat_minor": 0,
  "metadata": {
    "kernelspec": {
      "display_name": "Python 3",
      "language": "python",
      "name": "python3"
    },
    "language_info": {
      "codemirror_mode": {
        "name": "ipython",
        "version": 3
      },
      "file_extension": ".py",
      "mimetype": "text/x-python",
      "name": "python",
      "nbconvert_exporter": "python",
      "pygments_lexer": "ipython3",
      "version": "3.7.6"
    },
    "colab": {
      "name": "Day1codefile.ipynb",
      "provenance": []
    }
  },
  "cells": [
    {
      "cell_type": "markdown",
      "metadata": {
        "id": "R23kl6O9sVIu"
      },
      "source": [
        "## Introduction"
      ]
    },
    {
      "cell_type": "markdown",
      "metadata": {
        "id": "XPYvjYYusVI3"
      },
      "source": [
        "Python is an interpreted, object-oriented, high-level programming language with dynamic semantics. Its high-level built in data structures, combined with dynamic typing and dynamic binding, make it very attractive for Rapid Application Development, as well as for use as a scripting or glue language to connect existing components together. Python's simple, easy to learn syntax emphasizes readability and therefore reduces the cost of program maintenance. Python supports modules and packages, which encourages program modularity and code reuse. The Python interpreter and the extensive standard library are available in source or binary form without charge for all major platforms, and can be freely distributed."
      ]
    },
    {
      "cell_type": "markdown",
      "metadata": {
        "id": "Kz5t7viKsVI4"
      },
      "source": [
        "Python is a great general-purpose programming language on its own, but with the help of a few popular libraries (numpy, scipy, matplotlib) it becomes a powerful environment for scientific computing."
      ]
    },
    {
      "cell_type": "markdown",
      "metadata": {
        "id": "3EpWazLcsVI5"
      },
      "source": [
        "## Python Version\n",
        "### Python 2\n",
        "Published in late 2000, Python 2 signalled a more transparent and inclusive language development process than earlier versions of Python with the implementation of PEP (Python Enhancement Proposal), a technical specification that either provides information to Python community members or describes a new feature of the language.\n",
        "\n",
        "Additionally, Python 2 included many more programmatic features including a cycle-detecting garbage collector to automate memory management, increased Unicode support to standardize characters, and list comprehensions to create a list based on existing lists. As Python 2 continued to develop, more features were added, including unifying Python’s types and classes into one hierarchy in Python version 2.2.\n",
        "\n",
        "\n",
        "### Python 3\n",
        "\n",
        "Python 3 is regarded as the future of Python and is the version of the language that is currently in development. A major overhaul, Python 3 was released in late 2008 to address and amend intrinsic design flaws of previous versions of the language. The focus of Python 3 development was to clean up the codebase and remove redundancy, making it clear that there was only one way to perform a given task.\n",
        "\n",
        "Major modifications to Python 3.0 included changing the print statement into a built-in function, improve the way integers are divided, and providing more Unicode support.\n",
        "\n",
        "At first, Python 3 was slowly adopted due to the language not being backwards compatible with Python 2, requiring people to make a decision as to which version of the language to use. Additionally, many package libraries were only available for Python 2, but as the development team behind Python 3 has reiterated that there is an end of life for Python 2 support, more libraries have been ported to Python 3. The increased adoption of Python 3 can be shown by the number of Python packages that now provide Python 3 support, which at the time of writing includes 339 of the 360 most popular Python packages.\n",
        "\n",
        "### Python 2.7\n",
        "\n",
        "Following the 2008 release of Python 3.0, Python 2.7 was published on July 3, 2010 and planned as the last of the 2.x releases. The intention behind Python 2.7 was to make it easier for Python 2.x users to port features over to Python 3 by providing some measure of compatibility between the two. This compatibility support included enhanced modules for version 2.7 like unittest to support test automation, argparse for parsing command-line options, and more convenient classes in collections.\n",
        "\n",
        "Because of Python 2.7’s unique position as a version in between the earlier iterations of Python 2 and Python 3.0, it has persisted as a very popular choice for programmers due to its compatibility with many robust libraries. When we talk about Python 2 today, we are typically referring to the Python 2.7 release as that is the most frequently used version.\n",
        "\n",
        "Python 2.7, however, is considered to be a legacy language and its continued development, which today mostly consists of bug fixes, will cease completely in 2020.\n",
        "\n",
        "### Key Differences\n",
        "While Python 2.7 and Python 3 share many similar capabilities, they should not be thought of as entirely interchangeable. Though you can write good code and useful programs in either version, it is worth understanding that there will be some considerable differences in code syntax and handling.\n",
        "\n"
      ]
    },
    {
      "cell_type": "markdown",
      "metadata": {
        "collapsed": true,
        "id": "eSBlvfNwsVI8"
      },
      "source": [
        "## Anaconda Python Distribution\n",
        "Anaconda is an open-source package manager, environment manager, and distribution of the Python and R programming languages. It is commonly used for large-scale data processing, scientific computing, and predictive analytics, serving data scientists, developers, business analysts, and those working in DevOps.\n",
        "\n",
        "Anaconda offers a collection of over 720 open-source packages, and is available in both free and paid versions. The Anaconda distribution ships with the conda command-line utility. You can learn more about Anaconda and conda by reading the Anaconda Documentation pages."
      ]
    },
    {
      "cell_type": "markdown",
      "metadata": {
        "id": "RcWuOsZzsVI-"
      },
      "source": [
        "###### Why Anaconda?\n",
        "* User level install of the version of python you want\n",
        "* Able to install/update packages completely independent of system libraries or admin privileges\n",
        "* conda tool installs binary packages, rather than requiring compile resources like pip - again, handy if you have limited privileges for installing necessary libraries.\n",
        "* More or less eliminates the headaches of trying to figure out which version/release of package X is compatible with which version/release of package Y, both of which are required for the install of package Z\n",
        "* Comes either in full-meal-deal version, with numpy, scipy, PyQt, spyder IDE, etc. or in minimal / alacarte version (miniconda) where you can install what you want, when you need it\n",
        "* No risk of messing up required system libraries"
      ]
    },
    {
      "cell_type": "markdown",
      "metadata": {
        "id": "9BhE98P7sVI-"
      },
      "source": [
        "## Installing on Windows\n",
        "\n",
        "1. [Download the Anaconda installer](https://www.continuum.io/downloads).\n",
        "\n",
        "2. Optional: Verify data integrity with MD5 or SHA-256. More info on hashes\n",
        "\n",
        "3. Double click the installer to launch.\n",
        "\n",
        "  NOTE: If you encounter any issues during installation, temporarily disable your anti-virus software during install, then re-enable it after the installation concludes. If you have installed for all users, uninstall Anaconda and re-install it for your user only and try again.\n",
        "\n",
        "4. Click Next.\n",
        "\n",
        "5. Read the licensing terms and click I Agree.\n",
        "\n",
        "6. Select an install for “Just Me” unless you’re installing for all users (which requires Windows Administrator privileges).\n",
        "\n",
        "7. Select a destination folder to install Anaconda and click Next.\n",
        "\n",
        "  NOTE: Install Anaconda to a directory path that does not contain spaces or unicode characters.\n",
        "\n",
        "  NOTE: Do not install as Administrator unless admin privileges are required.\n",
        "\n",
        "8. Choose whether to add Anaconda to your PATH environment variable. We recommend not adding Anaconda to the PATH environment variable, since this can interfere with other software. Instead, use Anaconda software by opening Anaconda Navigator or the Anaconda Command Prompt from the Start Menu.\n",
        "\n",
        "9. Choose whether to register Anaconda as your default Python 3.6. Unless you plan on installing and running multiple versions of Anaconda, or multiple versions of Python, you should accept the default and leave this box checked.\n",
        "\n",
        "10. Click Install. You can click Show Details if you want to see all the packages Anaconda is installing.\n",
        "\n",
        "11. Click Next.\n",
        "\n",
        "12. After a successful installation you will see the “Thanks for installing Anaconda” image:\n",
        " <img src=\"Images/anaconda-install-win.png\">\n",
        " \n",
        "13. You can leave the boxes checked “Learn more about Anaconda Cloud” and “Learn more about Anaconda Support” if you wish to read more about this cloud package management service and Anaconda support. Click Finish.\n",
        "\n",
        "14. After your install is complete, verify it by opening Anaconda Navigator, a program that is included with Anaconda. From your Windows Start menu, select the shortcut Anaconda Navigator. If Navigator opens, you have successfully installed Anaconda.\n"
      ]
    },
    {
      "cell_type": "markdown",
      "metadata": {
        "id": "rMUk_wVasVI_"
      },
      "source": [
        "## Installing on macOS\n",
        "1. Download the [graphical macOS installer](https://www.continuum.io/downloads#macos) for your version of Python.\n",
        "\n",
        "2. OPTIONAL: Verify data integrity with MD5 or SHA-256. For more information on hashes, see What about cryptographic hash verification?.\n",
        "\n",
        "3. Double-click the .pkg file.\n",
        "\n",
        "4. Answer the prompts on the Introduction, Read Me and License screens.\n",
        "\n",
        "5. On the Destination Select screen, select Install for me only.\n",
        "\n",
        " NOTE: If you get the error message “You cannot install Anaconda in this location,” reselect Install for me only.\n",
        " <img src=\"Images/osxbug2.png\">\n",
        "\n",
        "6. On the Installation Type screen, you may choose to install in another location. The standard install puts Anaconda in your home user directory:\n",
        " <img src=\"Images/customizebutton.png\">\n",
        "\n",
        "7. Click the Install button.\n",
        "\n",
        "8. A successful installation displays the following screen:\n",
        " <img src=\"Images/anaconda-install-osx.png\">\n"
      ]
    },
    {
      "cell_type": "markdown",
      "metadata": {
        "id": "3FMyb9DrsVJA"
      },
      "source": [
        "## Installing on Linux\n",
        "\n",
        "1. In your browser, download the Anaconda installer for Linux.\n",
        "\n",
        "2. Optional: Verify data integrity with MD5 or SHA-256. (For more information on hashes, see cryptographic hash validation.)\n",
        "\n",
        "    Run the following:\n",
        "\n",
        "    __md5sum /path/filename__\n",
        "    OR:\n",
        "\n",
        "    __sha256sum /path/filename__\n",
        "3. Verify results against the proper hash page to make sure the hashes match.\n",
        "\n",
        "4. Enter the following to install Anaconda for Python 3.6:\n",
        "\n",
        " __bash ~/Downloads/Anaconda3-4.4.0-Linux-x86_64.sh__\n",
        " OR\n",
        "\n",
        " Enter the following to install Anaconda for Python 2.7:\n",
        "\n",
        " __bash ~/Downloads/Anaconda2-4.4.0-Linux-x86_64.sh__\n",
        " NOTE: You should include the bash command regardless of whether you are using Bash shell.\n",
        "\n",
        " NOTE: Replace actual download path and filename as necessary.\n",
        "\n",
        " NOTE: Install Anaconda as a user unless root privileges are required.\n",
        "\n",
        "5. The installer prompts “In order to continue the installation process, please review the license agreement.” Click Enter to view license terms.\n",
        "\n",
        "6. Scroll to the bottom of the license terms and enter yes to agree to them.\n",
        "\n",
        "7. The installer prompts you to click Enter to accept the default install location, press CTRL-C to cancel the installation, or specify an alternate installation directory. If you accept the default install location, the installer displays __'PREFIX=/home/\"user\"/anaconda\"2 or 3\"' and continues the installation. It may take a few minutes to complete.__\n",
        "\n",
        "   The installer prompts “Do you wish the installer to prepend the Anaconda\"2 or 3\" install location to PATH in your /home/\"user\"/.bashrc ?” We recommend yes.\n",
        "\n",
        " NOTE: If you enter “no”, you will need to manually specify the path to Anaconda when using Anaconda. To manually add the prepended path, edit file .bashrc to add ~/anaconda\"2 or 3\"/bin to your path manually using:\n",
        "\n",
        "8. __export PATH=\"/home/\"user\"/anaconda\"2 or 3\"/bin:$PATH\"__\n",
        " Replace /home/\"user\"/anaconda\"2 or 3\" with the actual path.\n",
        "\n",
        "9. The installer finishes and displays “Thank you for installing Anaconda\"2 or 3\"!”\n",
        "\n",
        "10. Close and open your terminal window for the installation to take effect, or you can enter the command source ~/.bashrc.\n",
        "\n",
        "  Enter conda list. If the installation was successful, the terminal window should display a list of installed Anaconda packages.\n",
        "\n",
        "  NOTE: Power8 users: Navigate to your Anaconda directory and run this command:\n",
        "\n",
        " __conda install libgfortran__"
      ]
    },
    {
      "cell_type": "markdown",
      "metadata": {
        "id": "3N5BdK37sVJB"
      },
      "source": [
        "## What are Jupyter notebook?"
      ]
    },
    {
      "cell_type": "markdown",
      "metadata": {
        "id": "JUuetXJQsVJC"
      },
      "source": [
        "The notebook is a web application that allows you to combine explanatory text, math equations, code, and visualizations all in one easily sharable document.\n",
        "\n",
        "Notebooks have quickly become an essential tool when working with data. You'll find them being used for data cleaning and exploration, visualization, machine learning, and big data analysis. Typically you'd be doing this work in a terminal, either the normal Python shell or with IPython. Your visualizations would be in separate windows, any documentation would be in separate documents, along with various scripts for functions and classes. However, with notebooks, all of these are in one place and easily read together.\n",
        "\n",
        "Notebooks are also rendered automatically on GitHub. It’s a great feature that lets you easily share your work. There is also [http://nbviewer.jupyter.org/](http://nbviewer.jupyter.org/) that renders the notebooks from your GitHub repo or from notebooks stored elsewhere.\n",
        "\n"
      ]
    },
    {
      "cell_type": "markdown",
      "metadata": {
        "id": "qARumg5-sVJC"
      },
      "source": [
        "## How notebook works?\n"
      ]
    },
    {
      "cell_type": "markdown",
      "metadata": {
        "id": "hzk9BycysVJC"
      },
      "source": [
        "Jupyter notebooks grew out of the IPython project started by Fernando Perez. IPython is an interactive shell, similar to the normal Python shell but with great features like syntax highlighting and code completion. Originally, notebooks worked by sending messages from the web app (the notebook you see in the browser) to an IPython kernel (an IPython application running in the background). The kernel executed the code, then sent it back to the notebook. The current architecture is similar, drawn out below.\n",
        "<img src=\"Images/notebook-components.png\">\n",
        "\n",
        "\n",
        "The central point is the notebook server. You connect to the server through your browser and the notebook is rendered as a web app. Code you write in the web app is sent through the server to the kernel. The kernel runs the code and sends it back to the server, then any output is rendered back in the browser. When you save the notebook, it is written to the server as a JSON file with a .ipynb file extension.\n",
        "\n",
        "The great part of this architecture is that the kernel doesn't need to run Python. Since the notebook and the kernel are separate, code in any language can be sent between them. For example, two of the earlier non-Python kernels were for the R and Julia languages. With an R kernel, code written in R will be sent to the R kernel where it is executed, exactly the same as Python code running on a Python kernel. IPython notebooks were renamed because notebooks became language agnostic. The new name Jupyter comes from the combination of Julia, Python, and R. If you're interested, here's a list of available kernels.\n",
        "\n",
        "Another benefit is that the server can be run anywhere and accessed via the internet. Typically you'll be running the server on your own machine where all your data and notebook files are stored. But, you could also set up a server on a remote machine or cloud instance like Amazon's EC2. Then, you can access the notebooks in your browser from anywhere in the world.\n",
        "\n"
      ]
    },
    {
      "cell_type": "markdown",
      "metadata": {
        "id": "1M1uEpPbsVJD"
      },
      "source": [
        "## Installing Jupyter Notebook"
      ]
    },
    {
      "cell_type": "markdown",
      "metadata": {
        "id": "nseGX6jgsVJD"
      },
      "source": [
        "By far the easiest way to install Jupyter is with Anaconda. Jupyter notebooks automatically come with the distribution. You'll be able to use notebooks from the default environment.\n",
        "\n",
        "To install Jupyter notebooks in a conda environment, use __conda install jupyter notebook__.\n",
        "\n",
        "Jupyter notebooks are also available through pip with __pip install jupyter notebook__."
      ]
    },
    {
      "cell_type": "markdown",
      "metadata": {
        "id": "mGkt3ML-sVJE"
      },
      "source": [
        "## Launching the notebook server\n",
        "\n",
        "To start a notebook server, enter jupyter notebook in your terminal or console. This will start the server in the directory you ran the command in. That means any notebook files will be saved in that directory. Typically you'd want to start the server in the directory where your notebooks live. However, you can navigate through your file system to where the notebooks are.\n",
        "\n",
        "When you run the command (try it yourself!), the server home should open in your browser. By default, the notebook server runs at http://localhost:8888. If you aren't familiar with this, localhost means your computer and 8888 is the port the server is communicating on. As long as the server is still running, you can always come back to it by going to http://localhost:8888 in your browser.\n",
        "\n",
        "If you start another server, it'll try to use port 8888, but since it is occupied, the new server will run on port 8889. Then, you'd connect to it at http://localhost:8889. Every additional notebook server will increment the port number like this.\n",
        "\n",
        "If you tried starting your own server, it should look something like this:\n",
        "<img src=\"Images/notebook-server.png\">"
      ]
    },
    {
      "cell_type": "markdown",
      "metadata": {
        "id": "HR8s0Q9zsVJE"
      },
      "source": [
        "# -------------------------------------------------------------------------------------------------------------"
      ]
    },
    {
      "cell_type": "markdown",
      "metadata": {
        "id": "wzTu402NsVJE"
      },
      "source": [
        "## Basics of Python"
      ]
    },
    {
      "cell_type": "markdown",
      "metadata": {
        "id": "pcqdYWBzsVJF"
      },
      "source": [
        "Python is a high-level, dynamically typed multiparadigm programming language. Python code is often said to be almost like pseudocode, since it allows you to express very powerful ideas in very few lines of code while being very readable. As an example, here is an implementation of the classic quicksort algorithm in Python:"
      ]
    },
    {
      "cell_type": "markdown",
      "metadata": {
        "id": "pDkZPj1TsVJF"
      },
      "source": [
        "### Fundamental types"
      ]
    },
    {
      "cell_type": "markdown",
      "metadata": {
        "id": "9yGZbRWSsVJF"
      },
      "source": [
        "### Integers\n",
        "\n",
        "Integer literals are created by any number without a decimal or complex component."
      ]
    },
    {
      "cell_type": "code",
      "metadata": {
        "colab": {
          "base_uri": "https://localhost:8080/"
        },
        "id": "vx7GI1dtsVJG",
        "outputId": "b4fd3644-d0f3-4076-8612-d1860df4e37c"
      },
      "source": [
        "# integers\n",
        "x = 1\n",
        "type(x)"
      ],
      "execution_count": 28,
      "outputs": [
        {
          "output_type": "execute_result",
          "data": {
            "text/plain": [
              "int"
            ]
          },
          "metadata": {
            "tags": []
          },
          "execution_count": 28
        }
      ]
    },
    {
      "cell_type": "markdown",
      "metadata": {
        "id": "Sc7xfipBsVJG"
      },
      "source": [
        "### Floats\n",
        "\n",
        "Float literals can be created by adding a decimal component to a number."
      ]
    },
    {
      "cell_type": "code",
      "metadata": {
        "colab": {
          "base_uri": "https://localhost:8080/"
        },
        "id": "08HvI4SSsVJH",
        "outputId": "a343222a-ac6e-40b9-a6b1-eeb29121a483"
      },
      "source": [
        "# float\n",
        "x = 1.0\n",
        "type(x)"
      ],
      "execution_count": 29,
      "outputs": [
        {
          "output_type": "execute_result",
          "data": {
            "text/plain": [
              "float"
            ]
          },
          "metadata": {
            "tags": []
          },
          "execution_count": 29
        }
      ]
    },
    {
      "cell_type": "markdown",
      "metadata": {
        "id": "fRg8Fz4_sVJI"
      },
      "source": [
        "### Boolean\n",
        "\n",
        "Boolean can be defined by typing True/False without quotes"
      ]
    },
    {
      "cell_type": "code",
      "metadata": {
        "colab": {
          "base_uri": "https://localhost:8080/"
        },
        "id": "62jCPmofsVJI",
        "outputId": "eb3a6845-a357-4d7b-c26e-f8b5b6e330c7"
      },
      "source": [
        "# boolean\n",
        "b1 = True\n",
        "b2 = False\n",
        "\n",
        "type(b1)"
      ],
      "execution_count": 30,
      "outputs": [
        {
          "output_type": "execute_result",
          "data": {
            "text/plain": [
              "bool"
            ]
          },
          "metadata": {
            "tags": []
          },
          "execution_count": 30
        }
      ]
    },
    {
      "cell_type": "markdown",
      "metadata": {
        "id": "yHaenJAMsVJI"
      },
      "source": [
        "### Strings\n",
        "\n",
        "String literals can be defined with any of single quotes ('), double quotes (\") or triple quotes (''' or \"\"\"). All give the same result with two important differences.\n",
        "\n",
        "If you quote with single quotes, you do not have to escape double quotes and vice-versa.\n",
        "If you quote with triple quotes, your string can span multiple lines."
      ]
    },
    {
      "cell_type": "code",
      "metadata": {
        "colab": {
          "base_uri": "https://localhost:8080/"
        },
        "id": "vBfi6-uosVJI",
        "outputId": "4ce5266e-2361-49af-9528-98ab7b8faa7e"
      },
      "source": [
        "# string\n",
        "name1 = 'your name'\n",
        "type(name1)"
      ],
      "execution_count": 31,
      "outputs": [
        {
          "output_type": "execute_result",
          "data": {
            "text/plain": [
              "str"
            ]
          },
          "metadata": {
            "tags": []
          },
          "execution_count": 31
        }
      ]
    },
    {
      "cell_type": "markdown",
      "metadata": {
        "id": "mcZRoxbWsVJJ"
      },
      "source": [
        "### Complex\n",
        "\n",
        "Complex literals can be created by using the notation x + yj where x is the real component and y is the imaginary component."
      ]
    },
    {
      "cell_type": "code",
      "metadata": {
        "colab": {
          "base_uri": "https://localhost:8080/"
        },
        "id": "Kpb86KHdsVJJ",
        "outputId": "3e592aca-770b-4e8e-c49b-d70a5371537a"
      },
      "source": [
        "# complex numbers: note the use of `j` to specify the imaginary part\n",
        "x = 1.0 - 2.0j\n",
        "type(x)"
      ],
      "execution_count": 32,
      "outputs": [
        {
          "output_type": "execute_result",
          "data": {
            "text/plain": [
              "complex"
            ]
          },
          "metadata": {
            "tags": []
          },
          "execution_count": 32
        }
      ]
    },
    {
      "cell_type": "code",
      "metadata": {
        "scrolled": true,
        "colab": {
          "base_uri": "https://localhost:8080/"
        },
        "id": "JpyPmPZTsVJJ",
        "outputId": "4c7062fc-b5cb-463a-d0b2-6fe6df5ea031"
      },
      "source": [
        "print(x)"
      ],
      "execution_count": 33,
      "outputs": [
        {
          "output_type": "stream",
          "text": [
            "(1-2j)\n"
          ],
          "name": "stdout"
        }
      ]
    },
    {
      "cell_type": "code",
      "metadata": {
        "scrolled": true,
        "colab": {
          "base_uri": "https://localhost:8080/"
        },
        "id": "km3_Y6KMsVJK",
        "outputId": "3866ceee-2323-4217-b6d7-3c95e5da1db8"
      },
      "source": [
        "print(x.real, x.imag)"
      ],
      "execution_count": 34,
      "outputs": [
        {
          "output_type": "stream",
          "text": [
            "1.0 -2.0\n"
          ],
          "name": "stdout"
        }
      ]
    },
    {
      "cell_type": "markdown",
      "metadata": {
        "id": "HfRWOXE8sVJK"
      },
      "source": [
        "### Variables\n",
        "\n",
        "#### Definining\n",
        "\n",
        "A variable in Python is defined through assignment. There is no concept of declaring a variable outside of that assignment."
      ]
    },
    {
      "cell_type": "code",
      "metadata": {
        "colab": {
          "base_uri": "https://localhost:8080/"
        },
        "id": "c6VrOaBhsVJK",
        "outputId": "c4aca8dc-da0e-42da-bc0a-777422a98dfb"
      },
      "source": [
        "tenth = 10\n",
        "two = 2\n",
        "print(tenth)\n",
        "two"
      ],
      "execution_count": 35,
      "outputs": [
        {
          "output_type": "stream",
          "text": [
            "10\n"
          ],
          "name": "stdout"
        },
        {
          "output_type": "execute_result",
          "data": {
            "text/plain": [
              "2"
            ]
          },
          "metadata": {
            "tags": []
          },
          "execution_count": 35
        }
      ]
    },
    {
      "cell_type": "markdown",
      "metadata": {
        "id": "vf15AIhcsVJL"
      },
      "source": [
        "#### Dynamic Typing\n",
        "\n",
        "In Python, while the value that a variable points to has a type, the variable itself has no strict type in its definition. You can re-use the same variable to point to an object of a different type. It may be helpful to think of variables as \"labels\" associated with objects."
      ]
    },
    {
      "cell_type": "code",
      "metadata": {
        "colab": {
          "base_uri": "https://localhost:8080/"
        },
        "id": "xsEXB4SMsVJL",
        "outputId": "450fa6b0-4e39-4d05-eaa2-5ce6be93dae0"
      },
      "source": [
        "ten = 10\n",
        "ten"
      ],
      "execution_count": 36,
      "outputs": [
        {
          "output_type": "execute_result",
          "data": {
            "text/plain": [
              "10"
            ]
          },
          "metadata": {
            "tags": []
          },
          "execution_count": 36
        }
      ]
    },
    {
      "cell_type": "code",
      "metadata": {
        "colab": {
          "base_uri": "https://localhost:8080/",
          "height": 35
        },
        "id": "1u3IrLO0sVJL",
        "outputId": "9dab666d-76cc-4b34-fe0b-b8d337354693"
      },
      "source": [
        "ten = 'ten'\n",
        "ten"
      ],
      "execution_count": 37,
      "outputs": [
        {
          "output_type": "execute_result",
          "data": {
            "application/vnd.google.colaboratory.intrinsic+json": {
              "type": "string"
            },
            "text/plain": [
              "'ten'"
            ]
          },
          "metadata": {
            "tags": []
          },
          "execution_count": 37
        }
      ]
    },
    {
      "cell_type": "markdown",
      "metadata": {
        "id": "mPs-I2_GsVJL"
      },
      "source": [
        "#### Strong Typing\n",
        "\n",
        "While Python allows you to be very flexible with your types, you must still be aware of what those types are. Certain operations will require certain types as arguments."
      ]
    },
    {
      "cell_type": "code",
      "metadata": {
        "colab": {
          "base_uri": "https://localhost:8080/",
          "height": 163
        },
        "id": "wOu4ZGAtsVJM",
        "outputId": "9f24ecbe-532e-465f-a074-9e8f84ae03df"
      },
      "source": [
        "'Day ' + 1"
      ],
      "execution_count": 38,
      "outputs": [
        {
          "output_type": "error",
          "ename": "TypeError",
          "evalue": "ignored",
          "traceback": [
            "\u001b[0;31m---------------------------------------------------------------------------\u001b[0m",
            "\u001b[0;31mTypeError\u001b[0m                                 Traceback (most recent call last)",
            "\u001b[0;32m<ipython-input-38-643fe001d103>\u001b[0m in \u001b[0;36m<module>\u001b[0;34m()\u001b[0m\n\u001b[0;32m----> 1\u001b[0;31m \u001b[0;34m'Day '\u001b[0m \u001b[0;34m+\u001b[0m \u001b[0;36m1\u001b[0m\u001b[0;34m\u001b[0m\u001b[0;34m\u001b[0m\u001b[0m\n\u001b[0m",
            "\u001b[0;31mTypeError\u001b[0m: can only concatenate str (not \"int\") to str"
          ]
        }
      ]
    },
    {
      "cell_type": "markdown",
      "metadata": {
        "id": "J00PeJojsVJM"
      },
      "source": [
        "This behavior is different from some other loosely-typed languages. If you were to do the same thing in JavaScript, you would get a different result.\n",
        "\n",
        "In Python, however, it is possible to change the type of an object through builtin functions."
      ]
    },
    {
      "cell_type": "code",
      "metadata": {
        "colab": {
          "base_uri": "https://localhost:8080/",
          "height": 35
        },
        "id": "nkRT-vg4sVJM",
        "outputId": "5ea1be33-e369-41d6-e786-0567c0515df2"
      },
      "source": [
        "'Day ' + str(1)"
      ],
      "execution_count": 39,
      "outputs": [
        {
          "output_type": "execute_result",
          "data": {
            "application/vnd.google.colaboratory.intrinsic+json": {
              "type": "string"
            },
            "text/plain": [
              "'Day 1'"
            ]
          },
          "metadata": {
            "tags": []
          },
          "execution_count": 39
        }
      ]
    },
    {
      "cell_type": "markdown",
      "metadata": {
        "id": "obKYAB4PsVJM"
      },
      "source": [
        "## Simple Expressions\n",
        "\n",
        "### Boolean Evaluation\n",
        "\n",
        "Boolean expressions are created with the keywords and, or, not and is. For example:"
      ]
    },
    {
      "cell_type": "code",
      "metadata": {
        "colab": {
          "base_uri": "https://localhost:8080/"
        },
        "id": "-tXSysTqsVJN",
        "outputId": "045565cb-1964-4d03-98b8-94d24297c2c5"
      },
      "source": [
        "True and True"
      ],
      "execution_count": 40,
      "outputs": [
        {
          "output_type": "execute_result",
          "data": {
            "text/plain": [
              "True"
            ]
          },
          "metadata": {
            "tags": []
          },
          "execution_count": 40
        }
      ]
    },
    {
      "cell_type": "code",
      "metadata": {
        "colab": {
          "base_uri": "https://localhost:8080/"
        },
        "id": "WO0spIqjsVJN",
        "outputId": "427638ae-564d-49d1-ff90-ed4585de77f5"
      },
      "source": [
        "True or False"
      ],
      "execution_count": 41,
      "outputs": [
        {
          "output_type": "execute_result",
          "data": {
            "text/plain": [
              "True"
            ]
          },
          "metadata": {
            "tags": []
          },
          "execution_count": 41
        }
      ]
    },
    {
      "cell_type": "code",
      "metadata": {
        "colab": {
          "base_uri": "https://localhost:8080/"
        },
        "id": "Mv2G7QCIsVJN",
        "outputId": "35ca6606-fef0-45b1-b9cd-05a3d6afcf97"
      },
      "source": [
        "not True"
      ],
      "execution_count": 42,
      "outputs": [
        {
          "output_type": "execute_result",
          "data": {
            "text/plain": [
              "False"
            ]
          },
          "metadata": {
            "tags": []
          },
          "execution_count": 42
        }
      ]
    },
    {
      "cell_type": "code",
      "metadata": {
        "colab": {
          "base_uri": "https://localhost:8080/"
        },
        "id": "-ouqDfVQsVJN",
        "outputId": "af00d15b-729a-4cfd-c593-205c6c227632"
      },
      "source": [
        "not False"
      ],
      "execution_count": 43,
      "outputs": [
        {
          "output_type": "execute_result",
          "data": {
            "text/plain": [
              "True"
            ]
          },
          "metadata": {
            "tags": []
          },
          "execution_count": 43
        }
      ]
    },
    {
      "cell_type": "code",
      "metadata": {
        "colab": {
          "base_uri": "https://localhost:8080/"
        },
        "id": "PhYqSqr8sVJO",
        "outputId": "f3fdc74f-0a0a-4fed-acaa-a55bacb3daf7"
      },
      "source": [
        "True is True"
      ],
      "execution_count": 44,
      "outputs": [
        {
          "output_type": "execute_result",
          "data": {
            "text/plain": [
              "True"
            ]
          },
          "metadata": {
            "tags": []
          },
          "execution_count": 44
        }
      ]
    },
    {
      "cell_type": "code",
      "metadata": {
        "colab": {
          "base_uri": "https://localhost:8080/"
        },
        "id": "rUZGkEK6sVJO",
        "outputId": "22461719-aa1c-4127-8772-9728195cc316"
      },
      "source": [
        "True is False"
      ],
      "execution_count": 46,
      "outputs": [
        {
          "output_type": "execute_result",
          "data": {
            "text/plain": [
              "False"
            ]
          },
          "metadata": {
            "tags": []
          },
          "execution_count": 46
        }
      ]
    },
    {
      "cell_type": "code",
      "metadata": {
        "colab": {
          "base_uri": "https://localhost:8080/"
        },
        "id": "R-khJVXwsVJO",
        "outputId": "7cf66769-3808-4b01-f3a1-8fc0c5236809"
      },
      "source": [
        "'a' is 'a'"
      ],
      "execution_count": 47,
      "outputs": [
        {
          "output_type": "execute_result",
          "data": {
            "text/plain": [
              "True"
            ]
          },
          "metadata": {
            "tags": []
          },
          "execution_count": 47
        }
      ]
    },
    {
      "cell_type": "markdown",
      "metadata": {
        "id": "pf_4hpP9sVJP"
      },
      "source": [
        "## Branching (if / elif / else)\n",
        "\n",
        "Python provides the if statement to allow branching based on conditions. Multiple elif checks can also be performed followed by an optional else clause. The if statement can be used with any evaluation of truthiness."
      ]
    },
    {
      "cell_type": "code",
      "metadata": {
        "colab": {
          "base_uri": "https://localhost:8080/"
        },
        "id": "uChLNe3tsVJP",
        "outputId": "9f297982-5a02-46f5-9425-827a078f076e"
      },
      "source": [
        "i = 3\n",
        "if i < 3:\n",
        "    print('less than 3')\n",
        "elif i < 5:\n",
        "    print('less than 5')\n",
        "else:\n",
        "    print('5 or more')\n"
      ],
      "execution_count": 48,
      "outputs": [
        {
          "output_type": "stream",
          "text": [
            "less than 5\n"
          ],
          "name": "stdout"
        }
      ]
    },
    {
      "cell_type": "markdown",
      "metadata": {
        "id": "AAKxhLHEsVJP"
      },
      "source": [
        "## Block Structure and Whitespace\n",
        "\n",
        "The code that is executed when a specific condition is met is defined in a \"block.\" In Python, the block structure is signalled by changes in indentation. Each line of code in a certain block level must be indented equally and indented more than the surrounding scope. The standard (defined in PEP-8) is to use 4 spaces for each level of block indentation. Statements preceding blocks generally end with a colon (:).\n",
        "\n",
        "Because there are no semi-colons or other end-of-line indicators in Python, breaking lines of code requires either a continuation character (\\ as the last char) or for the break to occur inside an unfinished structure (such as open parentheses).\n",
        "\n"
      ]
    },
    {
      "cell_type": "markdown",
      "metadata": {
        "id": "iGJ13bI7sVJQ"
      },
      "source": [
        "## Advanced Types: Containers\n",
        "\n",
        "One of the great advantages of Python as a programming language is the ease with which it allows you to manipulate containers. Containers (or collections) are an integral part of the language and, as you’ll see, built in to the core of the language’s syntax. As a result, thinking in a Pythonic manner means thinking about containers.\n",
        "\n",
        "### Lists\n",
        "\n",
        "The first container type that we will look at is the list. A list represents an ordered, mutable collection of objects. You can mix and match any type of object in a list, add to it and remove from it at will.\n",
        "\n",
        "Creating Empty Lists. To create an empty list, you can use empty square brackets or use the list() function with no arguments.\n",
        "\n"
      ]
    },
    {
      "cell_type": "code",
      "metadata": {
        "colab": {
          "base_uri": "https://localhost:8080/"
        },
        "id": "lTK6sANKsVJQ",
        "outputId": "5acb72cc-b67e-48c5-efd1-878a0a1f38ca"
      },
      "source": [
        "l = []\n",
        "l"
      ],
      "execution_count": 49,
      "outputs": [
        {
          "output_type": "execute_result",
          "data": {
            "text/plain": [
              "[]"
            ]
          },
          "metadata": {
            "tags": []
          },
          "execution_count": 49
        }
      ]
    },
    {
      "cell_type": "code",
      "metadata": {
        "colab": {
          "base_uri": "https://localhost:8080/"
        },
        "id": "NXPIwA-YsVJQ",
        "outputId": "7daddade-b67f-4abb-9998-01dc63a1c75a"
      },
      "source": [
        "l = list()\n",
        "l"
      ],
      "execution_count": 50,
      "outputs": [
        {
          "output_type": "execute_result",
          "data": {
            "text/plain": [
              "[]"
            ]
          },
          "metadata": {
            "tags": []
          },
          "execution_count": 50
        }
      ]
    },
    {
      "cell_type": "markdown",
      "metadata": {
        "id": "XZT1LMYcsVJR"
      },
      "source": [
        "Initializing Lists. You can initialize a list with content of any sort using the same square bracket notation. The list() function also takes an iterable as a single argument and returns a shallow copy of that iterable as a new list. A list is one such iterable as we’ll see soon, and we’ll see others later."
      ]
    },
    {
      "cell_type": "code",
      "metadata": {
        "colab": {
          "base_uri": "https://localhost:8080/"
        },
        "id": "0gLqt7VVsVJR",
        "outputId": "b7a536b9-9c78-42d9-cf03-c0ecd4001c41"
      },
      "source": [
        "l = ['a', 'b', 'c']\n",
        "print(l)\n",
        "type(l)"
      ],
      "execution_count": 51,
      "outputs": [
        {
          "output_type": "stream",
          "text": [
            "['a', 'b', 'c']\n"
          ],
          "name": "stdout"
        },
        {
          "output_type": "execute_result",
          "data": {
            "text/plain": [
              "list"
            ]
          },
          "metadata": {
            "tags": []
          },
          "execution_count": 51
        }
      ]
    },
    {
      "cell_type": "code",
      "metadata": {
        "colab": {
          "base_uri": "https://localhost:8080/"
        },
        "id": "iFwmzcYSsVJR",
        "outputId": "ee1d4128-3447-41c5-e0a0-6be273d9799d"
      },
      "source": [
        "l = ['a',6]\n",
        "l"
      ],
      "execution_count": 52,
      "outputs": [
        {
          "output_type": "execute_result",
          "data": {
            "text/plain": [
              "['a', 6]"
            ]
          },
          "metadata": {
            "tags": []
          },
          "execution_count": 52
        }
      ]
    },
    {
      "cell_type": "code",
      "metadata": {
        "colab": {
          "base_uri": "https://localhost:8080/"
        },
        "id": "-yolSdI3sVJR",
        "outputId": "3dbdac26-f5b8-48e2-c4b6-18fd2aa2c661"
      },
      "source": [
        "l2 = list(l)\n",
        "l2\n"
      ],
      "execution_count": 53,
      "outputs": [
        {
          "output_type": "execute_result",
          "data": {
            "text/plain": [
              "['a', 6]"
            ]
          },
          "metadata": {
            "tags": []
          },
          "execution_count": 53
        }
      ]
    },
    {
      "cell_type": "markdown",
      "metadata": {
        "id": "v8M4HIKSsVJS"
      },
      "source": [
        "A Python string is also a sequence of characters and can be treated as an iterable over those characters. Combined with the list() function, a new list of the characters can easily be generated."
      ]
    },
    {
      "cell_type": "code",
      "metadata": {
        "colab": {
          "base_uri": "https://localhost:8080/"
        },
        "id": "iWvjQ_7ksVJS",
        "outputId": "131580ad-999d-4a08-e07c-1e7b7274a3bd"
      },
      "source": [
        "list('abcdef')"
      ],
      "execution_count": 54,
      "outputs": [
        {
          "output_type": "execute_result",
          "data": {
            "text/plain": [
              "['a', 'b', 'c', 'd', 'e', 'f']"
            ]
          },
          "metadata": {
            "tags": []
          },
          "execution_count": 54
        }
      ]
    },
    {
      "cell_type": "markdown",
      "metadata": {
        "id": "0V3TEiKBsVJS"
      },
      "source": [
        "Adding. You can append to a list very easily (add to the end) or insert at an arbitrary index."
      ]
    },
    {
      "cell_type": "code",
      "metadata": {
        "colab": {
          "base_uri": "https://localhost:8080/"
        },
        "id": "Ek8iMK63sVJS",
        "outputId": "aa5422a5-60c7-4cf3-a181-a5a9e4d512e6"
      },
      "source": [
        "l = [1,2]\n",
        "print(l)\n",
        "l.append('b')\n",
        "print(l)\n",
        "l.append('c')\n",
        "print(l)\n",
        "l.insert(1, 56)\n",
        "l"
      ],
      "execution_count": 55,
      "outputs": [
        {
          "output_type": "stream",
          "text": [
            "[1, 2]\n",
            "[1, 2, 'b']\n",
            "[1, 2, 'b', 'c']\n"
          ],
          "name": "stdout"
        },
        {
          "output_type": "execute_result",
          "data": {
            "text/plain": [
              "[1, 56, 2, 'b', 'c']"
            ]
          },
          "metadata": {
            "tags": []
          },
          "execution_count": 55
        }
      ]
    },
    {
      "cell_type": "markdown",
      "metadata": {
        "id": "u8Rr26JQsVJT"
      },
      "source": [
        "Iterating. Iterating over a list is very simple. All iterables in Python allow access to elements using the for ... in statement. In this structure, each element in the iterable is sequentially assigned to the \"loop variable\" for a single pass of the loop, during which the enclosed block is executed."
      ]
    },
    {
      "cell_type": "code",
      "metadata": {
        "colab": {
          "base_uri": "https://localhost:8080/"
        },
        "id": "PUKw-4v2sVJT",
        "outputId": "b6d51488-0223-46d0-e98d-1f7ce8fd4355"
      },
      "source": [
        "for i in l:\n",
        "    print(i)"
      ],
      "execution_count": 56,
      "outputs": [
        {
          "output_type": "stream",
          "text": [
            "1\n",
            "56\n",
            "2\n",
            "b\n",
            "c\n"
          ],
          "name": "stdout"
        }
      ]
    },
    {
      "cell_type": "markdown",
      "metadata": {
        "id": "R8i6FD-xsVJT"
      },
      "source": [
        "## Loops\n",
        "\n",
        "In general, statements are executed sequentially: The first statement in a function is executed first, followed by the second, and so on. There may be a situation when you need to execute a block of code several number of times.\n",
        "\n",
        "Programming languages provide various control structures that allow for more complicated execution paths.\n",
        "\n",
        "### For loop\n",
        "\n",
        "The for loop in Python is used to iterate over a sequence (list, tuple, string) or other iterable objects. Iterating over a sequence is called traversal.\n",
        "\n",
        "Loop continues until we reach the last item in the sequence. The body of for loop is separated from the rest of the code using indentation.\n",
        "\n",
        "\n",
        "<img src=\"Images/forLoop.jpg\">"
      ]
    },
    {
      "cell_type": "code",
      "metadata": {
        "colab": {
          "base_uri": "https://localhost:8080/"
        },
        "id": "NeKjR8TYsVJT",
        "outputId": "b03772ec-087f-412c-8e57-bf4745f137ec"
      },
      "source": [
        "# Program to find the sum of all numbers stored in a list\n",
        "\n",
        "# List of numbers\n",
        "numbers = [6, 5, 3, 8, 4, 2, 5, 4,9]\n",
        "\n",
        "# variable to store the sum\n",
        "sum = 0\n",
        "\n",
        "# iterate over the list\n",
        "for i in numbers:\n",
        "    sum = sum + i\n",
        "\n",
        "# Output: The sum is 48\n",
        "print(\"The sum is\", sum)\n",
        "sum\n"
      ],
      "execution_count": 57,
      "outputs": [
        {
          "output_type": "stream",
          "text": [
            "The sum is 46\n"
          ],
          "name": "stdout"
        },
        {
          "output_type": "execute_result",
          "data": {
            "text/plain": [
              "46"
            ]
          },
          "metadata": {
            "tags": []
          },
          "execution_count": 57
        }
      ]
    },
    {
      "cell_type": "markdown",
      "metadata": {
        "id": "PL2-Q3lOsVJU"
      },
      "source": [
        "### for loop with else\n",
        "A for loop can have an optional else block as well. The else part is executed if the items in the sequence used in for loop exhausts.\n",
        "\n",
        "break statement can be used to stop a for loop. In such case, the else part is ignored.\n",
        "\n",
        "Hence, a for loop's else part runs if no break occurs.\n",
        "\n",
        "Here is an example to illustrate this."
      ]
    },
    {
      "cell_type": "code",
      "metadata": {
        "colab": {
          "base_uri": "https://localhost:8080/"
        },
        "id": "ygW2E_ETsVJU",
        "outputId": "c3022931-6e8e-4582-a093-131b531b8b83"
      },
      "source": [
        "digits = [0, 1, 5]\n",
        "\n",
        "for i in digits:\n",
        "    print(i)\n",
        "else:\n",
        "    print(\"No items left.\")"
      ],
      "execution_count": 58,
      "outputs": [
        {
          "output_type": "stream",
          "text": [
            "0\n",
            "1\n",
            "5\n",
            "No items left.\n"
          ],
          "name": "stdout"
        }
      ]
    },
    {
      "cell_type": "markdown",
      "metadata": {
        "id": "9L_obw9xsVJU"
      },
      "source": [
        "## While loop\n",
        "\n",
        "The while loop in Python is used to iterate over a block of code as long as the test expression (condition) is true.\n",
        "\n",
        "We generally use this loop when we don't know beforehand, the number of times to iterate.\n",
        "\n",
        "In while loop, test expression is checked first. The body of the loop is entered only if the test_expression evaluates to True. After one iteration, the test expression is checked again. This process continues until the test_expression evaluates to False.\n",
        "\n",
        "In Python, the body of the while loop is determined through indentation.\n",
        "\n",
        "Body starts with indentation and the first unindented line marks the end.\n",
        "\n",
        "Python interprets any non-zero value as True. None and 0 are interpreted as False.\n",
        "\n",
        "<img src=\"Images/whileLoopFlowchart.jpg\">\n"
      ]
    },
    {
      "cell_type": "code",
      "metadata": {
        "colab": {
          "base_uri": "https://localhost:8080/"
        },
        "id": "-xeV8wnbsVJV",
        "outputId": "3490a821-971a-4441-8827-cf99e2389335"
      },
      "source": [
        "# Program to add natural\n",
        "# numbers upto \n",
        "# sum = 1+2+3+...+n\n",
        "\n",
        "# To take input from the user,\n",
        "n = int(input(\"Enter n: \"))\n",
        "\n",
        "\n",
        "# initialize sum and counter\n",
        "sum = 0\n",
        "i = 1\n",
        "\n",
        "while i <= n:\n",
        "    sum = sum + i\n",
        "    i = i+1    # update counter\n",
        "\n",
        "# print the sum\n",
        "print(\"The sum is\", sum)"
      ],
      "execution_count": 59,
      "outputs": [
        {
          "output_type": "stream",
          "text": [
            "Enter n: 7\n",
            "The sum is 28\n"
          ],
          "name": "stdout"
        }
      ]
    },
    {
      "cell_type": "markdown",
      "metadata": {
        "id": "uKmKsBkfsVJV"
      },
      "source": [
        "## The range() function\n",
        "We can generate a sequence of numbers using range() function. range(10) will generate numbers from 0 to 9 (10 numbers).\n",
        "\n",
        "We can also define the start, stop and step size as range(start,stop,step size). step size defaults to 1 if not provided.\n",
        "\n",
        "This function does not store all the values in memory, it would be inefficient. So it remembers the start, stop, step size and generates the next number on the go.\n",
        "\n",
        "To force this function to output all the items, we can use the function list().\n",
        "\n",
        "The following example will clarify this."
      ]
    },
    {
      "cell_type": "code",
      "metadata": {
        "colab": {
          "base_uri": "https://localhost:8080/"
        },
        "id": "kVlQQECZsVJV",
        "outputId": "357b2750-d66e-4fb5-ace1-ec632c2a4cff"
      },
      "source": [
        "print(range(10))\n"
      ],
      "execution_count": 60,
      "outputs": [
        {
          "output_type": "stream",
          "text": [
            "range(0, 10)\n"
          ],
          "name": "stdout"
        }
      ]
    },
    {
      "cell_type": "code",
      "metadata": {
        "colab": {
          "base_uri": "https://localhost:8080/"
        },
        "id": "LkSW1JvmsVJV",
        "outputId": "b7e2d909-d50a-4ca6-fec1-5fab91251fa6"
      },
      "source": [
        "print(list(range(10)))"
      ],
      "execution_count": 61,
      "outputs": [
        {
          "output_type": "stream",
          "text": [
            "[0, 1, 2, 3, 4, 5, 6, 7, 8, 9]\n"
          ],
          "name": "stdout"
        }
      ]
    },
    {
      "cell_type": "code",
      "metadata": {
        "colab": {
          "base_uri": "https://localhost:8080/"
        },
        "id": "XUpa0YIYsVJW",
        "outputId": "eb594c0c-c14b-4095-992c-a25efe43097c"
      },
      "source": [
        "print(list(range(2, 8)))"
      ],
      "execution_count": 62,
      "outputs": [
        {
          "output_type": "stream",
          "text": [
            "[2, 3, 4, 5, 6, 7]\n"
          ],
          "name": "stdout"
        }
      ]
    },
    {
      "cell_type": "code",
      "metadata": {
        "colab": {
          "base_uri": "https://localhost:8080/"
        },
        "id": "4_ePsBaysVJW",
        "outputId": "a35d3b20-b173-43e3-9194-2c7f5457d45a"
      },
      "source": [
        "print(list(range(2, 20, 5)))"
      ],
      "execution_count": 63,
      "outputs": [
        {
          "output_type": "stream",
          "text": [
            "[2, 7, 12, 17]\n"
          ],
          "name": "stdout"
        }
      ]
    },
    {
      "cell_type": "markdown",
      "metadata": {
        "id": "gC6SMO3PsVJW"
      },
      "source": [
        "We can use the range() function in for loops to iterate through a sequence of numbers. It can be combined with the len() function to iterate though a sequence using indexing. Here is an example."
      ]
    },
    {
      "cell_type": "code",
      "metadata": {
        "colab": {
          "base_uri": "https://localhost:8080/"
        },
        "id": "8Gb1HNiUsVJW",
        "outputId": "627c3780-5c85-40b8-e142-e908a27de2fe"
      },
      "source": [
        "# Program to iterate through a list using indexing\n",
        "\n",
        "genre = ['pop', 'rock', 'jazz','sapna']\n",
        "\n",
        "# iterate over the list using index\n",
        "for i in range(len(genre)):\n",
        "    print(\"I like\", genre[i])"
      ],
      "execution_count": 64,
      "outputs": [
        {
          "output_type": "stream",
          "text": [
            "I like pop\n",
            "I like rock\n",
            "I like jazz\n",
            "I like sapna\n"
          ],
          "name": "stdout"
        }
      ]
    },
    {
      "cell_type": "markdown",
      "metadata": {
        "id": "GzjSIqresVJX"
      },
      "source": [
        "## break and continue statement\n",
        "\n",
        "In Python, break and continue statements can alter the flow of a normal loop.\n",
        "\n",
        "Loops iterate over a block of code until test expression is false, but sometimes we wish to terminate the current iteration or even the whole loop without cheking test expression.\n",
        "\n",
        "The break and continue statements are used in these cases.\n",
        "\n",
        "### break\n",
        "The break statement terminates the loop containing it. Control of the program flows to the statement immediately after the body of the loop.\n",
        "\n",
        "If break statement is inside a nested loop (loop inside another loop), break will terminate the innermost loop.\n",
        "\n",
        "\n",
        "\n",
        "<img src=\"Images/flowchart-break-statement.jpg\">"
      ]
    },
    {
      "cell_type": "code",
      "metadata": {
        "colab": {
          "base_uri": "https://localhost:8080/"
        },
        "id": "hTCwtWausVJX",
        "outputId": "8cf9b834-4581-41c0-a7ec-d35b108f6030"
      },
      "source": [
        "# Use of break statement inside loop\n",
        "\n",
        "for val in \"HARSHITHA\":\n",
        "    if val == \"I\":\n",
        "        break\n",
        "    print(val)\n",
        "\n",
        "print(\"The end\")"
      ],
      "execution_count": 65,
      "outputs": [
        {
          "output_type": "stream",
          "text": [
            "H\n",
            "A\n",
            "R\n",
            "S\n",
            "H\n",
            "The end\n"
          ],
          "name": "stdout"
        }
      ]
    },
    {
      "cell_type": "markdown",
      "metadata": {
        "id": "8PtPgzy8sVJX"
      },
      "source": [
        "In this program, we iterate through the \"string\" sequence. We check if the letter is \"i\", upon which we break from the loop. Hence, we see in our output that all the letters up till \"i\" gets printed. After that, the loop terminates."
      ]
    },
    {
      "cell_type": "markdown",
      "metadata": {
        "id": "K4qPRJR7sVJY"
      },
      "source": [
        "### continue\n",
        "The continue statement is used to skip the rest of the code inside a loop for the current iteration only. Loop does not terminate but continues on with the next iteration.\n",
        "\n",
        "<img src=\"Images/continue-statement-flowchart.jpg\">"
      ]
    },
    {
      "cell_type": "code",
      "metadata": {
        "colab": {
          "base_uri": "https://localhost:8080/"
        },
        "id": "C3euJV-6sVJY",
        "outputId": "a98eaac8-2e77-435d-b247-1350b8a9d2c8"
      },
      "source": [
        "# Program to show the use of continue statement inside loops\n",
        "\n",
        "for val in \"HARSHITHA\":\n",
        "    if val == \"I\":\n",
        "        continue\n",
        "    print(val)\n",
        "\n",
        "print(\"The end\")"
      ],
      "execution_count": 66,
      "outputs": [
        {
          "output_type": "stream",
          "text": [
            "H\n",
            "A\n",
            "R\n",
            "S\n",
            "H\n",
            "T\n",
            "H\n",
            "A\n",
            "The end\n"
          ],
          "name": "stdout"
        }
      ]
    },
    {
      "cell_type": "markdown",
      "metadata": {
        "id": "XmT2_16ksVJY"
      },
      "source": [
        "This program is same as the above example except the break statement has been replaced with continue.\n",
        "\n",
        "We continue with the loop, if the string is \"i\", not executing the rest of the block. Hence, we see in our output that all the letters except \"i\" gets printed."
      ]
    },
    {
      "cell_type": "markdown",
      "metadata": {
        "collapsed": true,
        "id": "CfEAOth-sVJY"
      },
      "source": [
        "my own work.........."
      ]
    },
    {
      "cell_type": "code",
      "metadata": {
        "colab": {
          "base_uri": "https://localhost:8080/"
        },
        "id": "K2Ry4GpmsVJZ",
        "outputId": "63ab2b43-48af-4ddf-f4bd-b1c3e9d26415"
      },
      "source": [
        "# Program to take the input string from the user.\n",
        "\n",
        "name = input(\"What is your name?\\n \")\n",
        "type(name)"
      ],
      "execution_count": 67,
      "outputs": [
        {
          "output_type": "stream",
          "text": [
            "What is your name?\n",
            " thejaswini\n"
          ],
          "name": "stdout"
        },
        {
          "output_type": "execute_result",
          "data": {
            "text/plain": [
              "str"
            ]
          },
          "metadata": {
            "tags": []
          },
          "execution_count": 67
        }
      ]
    },
    {
      "cell_type": "code",
      "metadata": {
        "colab": {
          "base_uri": "https://localhost:8080/"
        },
        "id": "8UzMT8yIsVJa",
        "outputId": "0824188b-cfe8-4e3d-8e2e-2a850dd0999f"
      },
      "source": [
        "# Program to read integers from user\n",
        "\n",
        "age = int(input(\"What is your age? \"))\n",
        "print (\"Your age is: \", age)\n",
        "type(age)"
      ],
      "execution_count": 68,
      "outputs": [
        {
          "output_type": "stream",
          "text": [
            "What is your age? 21\n",
            "Your age is:  21\n"
          ],
          "name": "stdout"
        },
        {
          "output_type": "execute_result",
          "data": {
            "text/plain": [
              "int"
            ]
          },
          "metadata": {
            "tags": []
          },
          "execution_count": 68
        }
      ]
    },
    {
      "cell_type": "code",
      "metadata": {
        "colab": {
          "base_uri": "https://localhost:8080/"
        },
        "id": "ICran19msVJa",
        "outputId": "477ebee2-2471-4bc2-ac5d-11e167ffe54a"
      },
      "source": [
        "# Let's have one more example\n",
        "\n",
        "name = input(\"What is your name? \")\n",
        "print (\" It was nice talking you \" + name + \"!\")\n",
        "age = input(\"Enter your age? \")\n",
        "print(\"Hey, you are already \" + age + \" years old, \" + name + \"!\")\n"
      ],
      "execution_count": 69,
      "outputs": [
        {
          "output_type": "stream",
          "text": [
            "What is your name? thejaswini t n\n",
            " It was nice talking you thejaswini t n!\n",
            "Enter your age? 21\n",
            "Hey, you are already 21 years old, thejaswini t n!\n"
          ],
          "name": "stdout"
        }
      ]
    },
    {
      "cell_type": "code",
      "metadata": {
        "id": "NIh-hQSisVJb"
      },
      "source": [
        ""
      ],
      "execution_count": null,
      "outputs": []
    }
  ]
}