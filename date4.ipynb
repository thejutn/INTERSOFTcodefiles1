{
  "nbformat": 4,
  "nbformat_minor": 0,
  "metadata": {
    "colab": {
      "name": "date4.ipynb",
      "provenance": []
    },
    "kernelspec": {
      "name": "python3",
      "display_name": "Python 3"
    },
    "language_info": {
      "name": "python"
    }
  },
  "cells": [
    {
      "cell_type": "code",
      "metadata": {
        "colab": {
          "base_uri": "https://localhost:8080/",
          "height": 180
        },
        "id": "S06kavd7lvcY",
        "outputId": "f0d75b92-dab6-4ac5-8781-ebc2203fdc01"
      },
      "source": [
        "class ClassName(base_classes):\n",
        "    statements"
      ],
      "execution_count": 1,
      "outputs": [
        {
          "output_type": "error",
          "ename": "NameError",
          "evalue": "ignored",
          "traceback": [
            "\u001b[0;31m---------------------------------------------------------------------------\u001b[0m",
            "\u001b[0;31mNameError\u001b[0m                                 Traceback (most recent call last)",
            "\u001b[0;32m<ipython-input-1-f6279105cbbf>\u001b[0m in \u001b[0;36m<module>\u001b[0;34m()\u001b[0m\n\u001b[0;32m----> 1\u001b[0;31m \u001b[0;32mclass\u001b[0m \u001b[0mClassName\u001b[0m\u001b[0;34m(\u001b[0m\u001b[0mbase_classes\u001b[0m\u001b[0;34m)\u001b[0m\u001b[0;34m:\u001b[0m\u001b[0;34m\u001b[0m\u001b[0;34m\u001b[0m\u001b[0m\n\u001b[0m\u001b[1;32m      2\u001b[0m     \u001b[0mstatements\u001b[0m\u001b[0;34m\u001b[0m\u001b[0;34m\u001b[0m\u001b[0m\n",
            "\u001b[0;31mNameError\u001b[0m: name 'base_classes' is not defined"
          ]
        }
      ]
    },
    {
      "cell_type": "code",
      "metadata": {
        "colab": {
          "base_uri": "https://localhost:8080/"
        },
        "id": "SQB6Ubhel2iG",
        "outputId": "f7d96cfd-493b-452b-fd6b-a331b518cb61"
      },
      "source": [
        "class Person:\n",
        "    pass\n",
        "\n",
        "john_doe = Person()\n",
        "john_doe.name = \"Alec\"\n",
        "john_doe.surname = \"Baldwin\"\n",
        "john_doe.year_of_birth = 1958\n",
        "\n",
        "\n",
        "print(john_doe)\n",
        "print(\"%s %s was born in %d.\" %\n",
        "      (john_doe.name, john_doe.surname, john_doe.year_of_birth))"
      ],
      "execution_count": 2,
      "outputs": [
        {
          "output_type": "stream",
          "text": [
            "<__main__.Person object at 0x7f7498cb1f90>\n",
            "Alec Baldwin was born in 1958.\n"
          ],
          "name": "stdout"
        }
      ]
    },
    {
      "cell_type": "code",
      "metadata": {
        "id": "UnonxZdml23L"
      },
      "source": [
        "class Person:\n",
        "    def __init__(self, name, surname, year_of_birth):\n",
        "        self.name = name\n",
        "        self.surname = surname\n",
        "        self.year_of_birth = year_of_birth"
      ],
      "execution_count": 3,
      "outputs": []
    },
    {
      "cell_type": "code",
      "metadata": {
        "colab": {
          "base_uri": "https://localhost:8080/"
        },
        "id": "fTI9WwQkmGNw",
        "outputId": "c13de803-fdbc-4439-fada-3f9abb7c6a85"
      },
      "source": [
        "alec = Person(\"Alec\", \"Baldwin\", 1958)\n",
        "print(alec)\n",
        "print(\"%s %s was born in %d\"% (alec.name,alec.surname,alec.year_of_birth))"
      ],
      "execution_count": 4,
      "outputs": [
        {
          "output_type": "stream",
          "text": [
            "<__main__.Person object at 0x7f7498cc3690>\n",
            "Alec Baldwin was born in 1958\n"
          ],
          "name": "stdout"
        }
      ]
    },
    {
      "cell_type": "code",
      "metadata": {
        "colab": {
          "base_uri": "https://localhost:8080/"
        },
        "id": "Zr7xEUXwmGsy",
        "outputId": "c2bfa185-e7f3-454e-acc5-05185a923a5a"
      },
      "source": [
        "class Person:\n",
        "    def __init__(self, name, surname, year_of_birth):\n",
        "        self.name = name\n",
        "        self.surname = surname\n",
        "        self.year_of_birth = year_of_birth\n",
        "    \n",
        "    def age(self, current_year):\n",
        "        return current_year - self.year_of_birth\n",
        "    \n",
        "    def __str__(self):\n",
        "        return \"%s %s was born in %d .\" % (self.name, self.surname, self.year_of_birth)\n",
        "    \n",
        "alec = Person(\"Alec\", \"Baldwin\", 1958)\n",
        "print(alec)\n",
        "print(alec.age(2019))"
      ],
      "execution_count": 5,
      "outputs": [
        {
          "output_type": "stream",
          "text": [
            "Alec Baldwin was born in 1958 .\n",
            "61\n"
          ],
          "name": "stdout"
        }
      ]
    },
    {
      "cell_type": "code",
      "metadata": {
        "colab": {
          "base_uri": "https://localhost:8080/"
        },
        "id": "lh-a4vOqmTbC",
        "outputId": "57c691fa-22f5-4a11-d17c-e207e33e2168"
      },
      "source": [
        "class Student(Person):\n",
        "    def __init__(self, student_id, *args, **kwargs):\n",
        "        super(Student, self).__init__(*args, **kwargs)\n",
        "        self._student_id = student_id\n",
        "        \n",
        "charlie = Student(1, 'Charlie', 'Brown', 2006)\n",
        "print(charlie)\n",
        "print(type(charlie))\n",
        "print(isinstance(charlie, Person))\n",
        "print(isinstance(charlie, object))\n"
      ],
      "execution_count": 6,
      "outputs": [
        {
          "output_type": "stream",
          "text": [
            "Charlie Brown was born in 2006 .\n",
            "<class '__main__.Student'>\n",
            "True\n",
            "True\n"
          ],
          "name": "stdout"
        }
      ]
    },
    {
      "cell_type": "code",
      "metadata": {
        "colab": {
          "base_uri": "https://localhost:8080/"
        },
        "id": "Nq9oCdIkmTvT",
        "outputId": "ab3456c7-d07e-4dbb-92cc-788434ec2e67"
      },
      "source": [
        "class Student(Person):\n",
        "    def __init__(self, student_id, *args, **kwargs):\n",
        "        super(Student, self).__init__(*args, **kwargs)\n",
        "        self._student_id = student_id\n",
        "        \n",
        "    def __str__(self):\n",
        "        return super(Student, self).__str__() + \" And has ID: %d\" % self._student_id\n",
        "        \n",
        "charlie = Student(1, 'Charlie', 'Brown', 2006)\n",
        "print(charlie)\n"
      ],
      "execution_count": 7,
      "outputs": [
        {
          "output_type": "stream",
          "text": [
            "Charlie Brown was born in 2006 . And has ID: 1\n"
          ],
          "name": "stdout"
        }
      ]
    },
    {
      "cell_type": "code",
      "metadata": {
        "colab": {
          "base_uri": "https://localhost:8080/"
        },
        "id": "zr7vm8yMmdT2",
        "outputId": "9bc1cb75-2255-4b29-99ed-820efce3dfed"
      },
      "source": [
        "def summer(a, b):\n",
        "    return a + b\n",
        "\n",
        "print(summer(1, 1))\n",
        "print(summer([\"a\", \"b\", \"c\"], [\"d\", \"e\"]))\n",
        "print(summer(\"abra\", \"cadabra\"))\n"
      ],
      "execution_count": 8,
      "outputs": [
        {
          "output_type": "stream",
          "text": [
            "2\n",
            "['a', 'b', 'c', 'd', 'e']\n",
            "abracadabra\n"
          ],
          "name": "stdout"
        }
      ]
    },
    {
      "cell_type": "code",
      "metadata": {
        "colab": {
          "base_uri": "https://localhost:8080/"
        },
        "id": "D7ypowLnmdoY",
        "outputId": "31d2ae94-202b-487d-c0d8-aa41a39e61fd"
      },
      "source": [
        "%%writefile superman.txt\n",
        "Hello, this is a quick superman test file"
      ],
      "execution_count": 9,
      "outputs": [
        {
          "output_type": "stream",
          "text": [
            "Writing superman.txt\n"
          ],
          "name": "stdout"
        }
      ]
    },
    {
      "cell_type": "code",
      "metadata": {
        "id": "MQnwzOdSq60u"
      },
      "source": [
        "my_file = open('superman.txt')"
      ],
      "execution_count": 16,
      "outputs": []
    },
    {
      "cell_type": "code",
      "metadata": {
        "id": "mu8tCHXWq7LO",
        "outputId": "c07a7aa2-6628-4e6c-92be-c1a360b62118",
        "colab": {
          "base_uri": "https://localhost:8080/",
          "height": 35
        }
      },
      "source": [
        "my_file.read()"
      ],
      "execution_count": 17,
      "outputs": [
        {
          "output_type": "execute_result",
          "data": {
            "application/vnd.google.colaboratory.intrinsic+json": {
              "type": "string"
            },
            "text/plain": [
              "'Hello, this is a quick superman test file'"
            ]
          },
          "metadata": {
            "tags": []
          },
          "execution_count": 17
        }
      ]
    },
    {
      "cell_type": "code",
      "metadata": {
        "id": "szTkp2UKrFsf",
        "outputId": "2213f13a-f24b-4813-c024-b462456eb335",
        "colab": {
          "base_uri": "https://localhost:8080/",
          "height": 35
        }
      },
      "source": [
        "my_file.read()"
      ],
      "execution_count": 18,
      "outputs": [
        {
          "output_type": "execute_result",
          "data": {
            "application/vnd.google.colaboratory.intrinsic+json": {
              "type": "string"
            },
            "text/plain": [
              "''"
            ]
          },
          "metadata": {
            "tags": []
          },
          "execution_count": 18
        }
      ]
    },
    {
      "cell_type": "code",
      "metadata": {
        "id": "hrN0LenBrGAV",
        "outputId": "08c05f00-478d-45de-dfd9-fed751363ee0",
        "colab": {
          "base_uri": "https://localhost:8080/"
        }
      },
      "source": [
        "my_file.seek(0)"
      ],
      "execution_count": 19,
      "outputs": [
        {
          "output_type": "execute_result",
          "data": {
            "text/plain": [
              "0"
            ]
          },
          "metadata": {
            "tags": []
          },
          "execution_count": 19
        }
      ]
    },
    {
      "cell_type": "code",
      "metadata": {
        "id": "-8R8tk0MrMJ3",
        "outputId": "2bdaca7b-80e3-435e-9483-119cc5e85f29",
        "colab": {
          "base_uri": "https://localhost:8080/",
          "height": 35
        }
      },
      "source": [
        "my_file.read()"
      ],
      "execution_count": 20,
      "outputs": [
        {
          "output_type": "execute_result",
          "data": {
            "application/vnd.google.colaboratory.intrinsic+json": {
              "type": "string"
            },
            "text/plain": [
              "'Hello, this is a quick superman test file'"
            ]
          },
          "metadata": {
            "tags": []
          },
          "execution_count": 20
        }
      ]
    },
    {
      "cell_type": "code",
      "metadata": {
        "id": "fJvrcHU_rMdm",
        "outputId": "acec3f4e-8a62-46f7-8d7a-4a7e732ac07d",
        "colab": {
          "base_uri": "https://localhost:8080/"
        }
      },
      "source": [
        "my_file.seek(0)"
      ],
      "execution_count": 21,
      "outputs": [
        {
          "output_type": "execute_result",
          "data": {
            "text/plain": [
              "0"
            ]
          },
          "metadata": {
            "tags": []
          },
          "execution_count": 21
        }
      ]
    },
    {
      "cell_type": "code",
      "metadata": {
        "id": "P-H7hffarSql",
        "outputId": "63de9f65-0af2-43cb-e061-32033719798c",
        "colab": {
          "base_uri": "https://localhost:8080/"
        }
      },
      "source": [
        "my_file.readlines()"
      ],
      "execution_count": 22,
      "outputs": [
        {
          "output_type": "execute_result",
          "data": {
            "text/plain": [
              "['Hello, this is a quick superman test file']"
            ]
          },
          "metadata": {
            "tags": []
          },
          "execution_count": 22
        }
      ]
    },
    {
      "cell_type": "code",
      "metadata": {
        "id": "KbuGdjpXrTCk"
      },
      "source": [
        "my_file = open('superman.txt','w+')"
      ],
      "execution_count": 24,
      "outputs": []
    },
    {
      "cell_type": "code",
      "metadata": {
        "id": "sNfQeQx8rzj0",
        "outputId": "6f4dface-d18e-48fa-bf04-4cc1b7ecd26d",
        "colab": {
          "base_uri": "https://localhost:8080/"
        }
      },
      "source": [
        "my_file.write('This is a new line')"
      ],
      "execution_count": 25,
      "outputs": [
        {
          "output_type": "execute_result",
          "data": {
            "text/plain": [
              "18"
            ]
          },
          "metadata": {
            "tags": []
          },
          "execution_count": 25
        }
      ]
    },
    {
      "cell_type": "code",
      "metadata": {
        "id": "_ZDg2HgSr6yO",
        "outputId": "56ebb98f-eb7c-4abf-e90c-2a91540b1136",
        "colab": {
          "base_uri": "https://localhost:8080/"
        }
      },
      "source": [
        "my_file.seek(0)"
      ],
      "execution_count": 26,
      "outputs": [
        {
          "output_type": "execute_result",
          "data": {
            "text/plain": [
              "0"
            ]
          },
          "metadata": {
            "tags": []
          },
          "execution_count": 26
        }
      ]
    },
    {
      "cell_type": "code",
      "metadata": {
        "id": "PMLU6li4r7SM",
        "outputId": "694b6525-2390-465f-d5d0-9f68783e9a4c",
        "colab": {
          "base_uri": "https://localhost:8080/",
          "height": 35
        }
      },
      "source": [
        "my_file.read()"
      ],
      "execution_count": 27,
      "outputs": [
        {
          "output_type": "execute_result",
          "data": {
            "application/vnd.google.colaboratory.intrinsic+json": {
              "type": "string"
            },
            "text/plain": [
              "'This is a new line'"
            ]
          },
          "metadata": {
            "tags": []
          },
          "execution_count": 27
        }
      ]
    },
    {
      "cell_type": "code",
      "metadata": {
        "id": "2qjclls6sDwa",
        "outputId": "59c1db3a-054b-430e-f490-3d299eacd934",
        "colab": {
          "base_uri": "https://localhost:8080/"
        }
      },
      "source": [
        "%%writefile test.txt\n",
        "First Line\n",
        "Second Line"
      ],
      "execution_count": 32,
      "outputs": [
        {
          "output_type": "stream",
          "text": [
            "Overwriting test.txt\n"
          ],
          "name": "stdout"
        }
      ]
    },
    {
      "cell_type": "code",
      "metadata": {
        "id": "5isH26ofsEEQ",
        "outputId": "26bfedfc-d720-401d-9d21-0b01a17987e9",
        "colab": {
          "base_uri": "https://localhost:8080/"
        }
      },
      "source": [
        "for line in open('test.txt'):\n",
        "    print(line)"
      ],
      "execution_count": 33,
      "outputs": [
        {
          "output_type": "stream",
          "text": [
            "First Line\n",
            "\n",
            "Second Line\n"
          ],
          "name": "stdout"
        }
      ]
    },
    {
      "cell_type": "code",
      "metadata": {
        "id": "PdOmZ6NGs_hS",
        "outputId": "5ebb13b9-d184-4cb5-e256-642eedefa7eb",
        "colab": {
          "base_uri": "https://localhost:8080/"
        }
      },
      "source": [
        "for asdf in open('test.txt'):\n",
        "    print(asdf)"
      ],
      "execution_count": 34,
      "outputs": [
        {
          "output_type": "stream",
          "text": [
            "First Line\n",
            "\n",
            "Second Line\n"
          ],
          "name": "stdout"
        }
      ]
    },
    {
      "cell_type": "code",
      "metadata": {
        "id": "ti4-HK4Ms_1V"
      },
      "source": [
        "from io import StringIO"
      ],
      "execution_count": 36,
      "outputs": []
    },
    {
      "cell_type": "code",
      "metadata": {
        "id": "500ELeqltH2n"
      },
      "source": [
        "message = 'This is just a normal string.'"
      ],
      "execution_count": 37,
      "outputs": []
    },
    {
      "cell_type": "code",
      "metadata": {
        "id": "5iBcoUoktIPT"
      },
      "source": [
        "f = StringIO(message)"
      ],
      "execution_count": 38,
      "outputs": []
    },
    {
      "cell_type": "code",
      "metadata": {
        "id": "onxOd0SqtNXS",
        "outputId": "9951854b-a3b5-41d3-90d9-8c60d9384999",
        "colab": {
          "base_uri": "https://localhost:8080/",
          "height": 35
        }
      },
      "source": [
        "f.read()"
      ],
      "execution_count": 39,
      "outputs": [
        {
          "output_type": "execute_result",
          "data": {
            "application/vnd.google.colaboratory.intrinsic+json": {
              "type": "string"
            },
            "text/plain": [
              "'This is just a normal string.'"
            ]
          },
          "metadata": {
            "tags": []
          },
          "execution_count": 39
        }
      ]
    },
    {
      "cell_type": "code",
      "metadata": {
        "id": "YGDep90stNs3",
        "outputId": "685b4db1-4e48-4147-9240-c959b9a62e54",
        "colab": {
          "base_uri": "https://localhost:8080/"
        }
      },
      "source": [
        "f.write(' Second line written to file like object')"
      ],
      "execution_count": 40,
      "outputs": [
        {
          "output_type": "execute_result",
          "data": {
            "text/plain": [
              "40"
            ]
          },
          "metadata": {
            "tags": []
          },
          "execution_count": 40
        }
      ]
    },
    {
      "cell_type": "code",
      "metadata": {
        "id": "II0jqUUUtTHa",
        "outputId": "40ac43e3-d7ea-4c58-9baf-cba93dab17db",
        "colab": {
          "base_uri": "https://localhost:8080/"
        }
      },
      "source": [
        "f.seek(0)"
      ],
      "execution_count": 41,
      "outputs": [
        {
          "output_type": "execute_result",
          "data": {
            "text/plain": [
              "0"
            ]
          },
          "metadata": {
            "tags": []
          },
          "execution_count": 41
        }
      ]
    },
    {
      "cell_type": "code",
      "metadata": {
        "id": "oWga-bPqtXFF",
        "outputId": "50ad06a0-8315-4b4b-ae5e-2bb6a22d9507",
        "colab": {
          "base_uri": "https://localhost:8080/",
          "height": 35
        }
      },
      "source": [
        "f.read()"
      ],
      "execution_count": 42,
      "outputs": [
        {
          "output_type": "execute_result",
          "data": {
            "application/vnd.google.colaboratory.intrinsic+json": {
              "type": "string"
            },
            "text/plain": [
              "'This is just a normal string. Second line written to file like object'"
            ]
          },
          "metadata": {
            "tags": []
          },
          "execution_count": 42
        }
      ]
    }
  ]
}