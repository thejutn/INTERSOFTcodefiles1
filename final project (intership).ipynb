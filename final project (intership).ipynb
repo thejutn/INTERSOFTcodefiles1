{
 "cells": [
  {
   "cell_type": "code",
   "execution_count": 1,
   "metadata": {},
   "outputs": [],
   "source": [
    "import os\n",
    "import time\n",
    "import json\n",
    "import subprocess"
   ]
  },
  {
   "cell_type": "code",
   "execution_count": 2,
   "metadata": {},
   "outputs": [],
   "source": [
    "import webbrowser\n",
    "import requests\n",
    "import wolframalpha\n",
    "import wikipedia\n",
    "import datetime"
   ]
  },
  {
   "cell_type": "code",
   "execution_count": 3,
   "metadata": {},
   "outputs": [],
   "source": [
    "import speech_recognition as sr\n",
    "import pyttsx3"
   ]
  },
  {
   "cell_type": "code",
   "execution_count": 4,
   "metadata": {},
   "outputs": [
    {
     "name": "stdout",
     "output_type": "stream",
     "text": [
      "Hello Everyone\n"
     ]
    }
   ],
   "source": [
    "print(\"Hello Everyone\")"
   ]
  },
  {
   "cell_type": "code",
   "execution_count": 5,
   "metadata": {},
   "outputs": [],
   "source": [
    "engine=pyttsx3.init('sapi5')\n",
    "voices=engine.getProperty('voices')\n",
    "engine.setProperty(\"voice\",'voices[0].id')"
   ]
  },
  {
   "cell_type": "code",
   "execution_count": 6,
   "metadata": {},
   "outputs": [],
   "source": [
    "def speak(text):\n",
    "    engine.say(text)\n",
    "    engine.runAndWait()"
   ]
  },
  {
   "cell_type": "code",
   "execution_count": 7,
   "metadata": {},
   "outputs": [],
   "source": [
    "def wishMe():\n",
    "    hour=datetime.datetime.now().hour\n",
    "    if hour>=0 and hour<12:\n",
    "        speak(\"Hello,Good morning Mrs theju\")\n",
    "        print(\"Hello,Good morning Mrs theju\")\n",
    "    elif hour>=12 and hour<=18:\n",
    "        speak(\"Hello,Good afternoon Mrs theju\")\n",
    "        print(\"Hello,Good afternoon Mrs theju\")\n",
    "    else:\n",
    "        speak('Its already the night time better go to sleep')\n",
    "        print('Its already the night time better go to sleep')\n",
    "    "
   ]
  },
  {
   "cell_type": "code",
   "execution_count": 8,
   "metadata": {},
   "outputs": [],
   "source": [
    "def takeCommand():\n",
    "    r=sr.Recognizer()\n",
    "    with sr.Microphone() as source:\n",
    "        print(\"I am listening\")\n",
    "        audio=r.listen(source)\n",
    "        \n",
    "        try:\n",
    "            statement=r.recognize_google(audio,language='en-in')\n",
    "            print(f\"user said:{statement}\\n\")\n",
    "         \n",
    "        except Exception as e:\n",
    "            speak(\"pardon me, please say that again\")\n",
    "            return \"None\"\n",
    "        return statement\n",
    "        "
   ]
  },
  {
   "cell_type": "code",
   "execution_count": 9,
   "metadata": {},
   "outputs": [
    {
     "name": "stdout",
     "output_type": "stream",
     "text": [
      "Its already the night time better go to sleep\n"
     ]
    }
   ],
   "source": [
    "speak(\"LOADING U AI ASSISTANT\")\n",
    "wishMe()"
   ]
  },
  {
   "cell_type": "code",
   "execution_count": 18,
   "metadata": {},
   "outputs": [
    {
     "name": "stdout",
     "output_type": "stream",
     "text": [
      "I am listening\n",
      "user said:who are you\n",
      "\n",
      "I am listening\n",
      "user said:open Gmail\n",
      "\n",
      "I am listening\n",
      "user said:can I ask you something\n",
      "\n",
      "I am listening\n",
      "user said:what is the perimeter of cube\n",
      "\n",
      "(data not available)\n",
      "I am listening\n",
      "user said:what's the can I ask you something\n",
      "\n",
      "I am listening\n",
      "user said:the pi value\n",
      "\n",
      "Pi is the mathematical constant defined as the ratio of the circumference of a circle to its diameter with value of approximately 3.14159.\n",
      "I am listening\n",
      "user said:open Google\n",
      "\n",
      "I am listening\n",
      "user said:time now\n",
      "\n",
      "I am listening\n",
      "user said:what is the weather in Mysore\n",
      "\n",
      "I am listening\n",
      "user said:dishoom\n",
      "\n",
      "city not found\n",
      "I am listening\n",
      "user said:mice what is the weather\n",
      "\n",
      "I am listening\n",
      "user said:Mysore\n",
      "\n",
      "the temperature in kelvin units is 299.15\n",
      " the humidity in percentage is 69\n",
      " weather descriptionscattered clouds\n",
      "I am listening\n",
      "I am listening\n",
      "I am listening\n",
      "user said:photo\n",
      "\n",
      "I am listening\n",
      "user said:open YouTube\n",
      "\n",
      "I am listening\n",
      "user said:logger\n",
      "\n",
      "I am listening\n",
      "user said:OK then log off\n",
      "\n"
     ]
    },
    {
     "ename": "FileNotFoundError",
     "evalue": "[WinError 2] The system cannot find the file specified",
     "output_type": "error",
     "traceback": [
      "\u001b[1;31m---------------------------------------------------------------------------\u001b[0m",
      "\u001b[1;31mFileNotFoundError\u001b[0m                         Traceback (most recent call last)",
      "\u001b[1;32m<ipython-input-18-cbc27cdfc38f>\u001b[0m in \u001b[0;36m<module>\u001b[1;34m\u001b[0m\n\u001b[0;32m     92\u001b[0m         \u001b[1;32melif\u001b[0m \u001b[1;34m\"log off\"\u001b[0m \u001b[1;32min\u001b[0m \u001b[0mstatement\u001b[0m \u001b[1;32mor\u001b[0m \u001b[1;34m\"shut down\"\u001b[0m \u001b[1;32min\u001b[0m \u001b[0mstatement\u001b[0m \u001b[1;32mor\u001b[0m \u001b[1;34m\"sign out\"\u001b[0m \u001b[1;32min\u001b[0m \u001b[0mstatement\u001b[0m \u001b[1;33m:\u001b[0m\u001b[1;33m\u001b[0m\u001b[1;33m\u001b[0m\u001b[0m\n\u001b[0;32m     93\u001b[0m              \u001b[0mspeak\u001b[0m\u001b[1;33m(\u001b[0m\u001b[1;34m\"ok.. your Pc will shutdown in 10 seconds -make sure that you saved your code and exit the application\"\u001b[0m\u001b[1;33m)\u001b[0m\u001b[1;33m\u001b[0m\u001b[1;33m\u001b[0m\u001b[0m\n\u001b[1;32m---> 94\u001b[1;33m              \u001b[0msubprocess\u001b[0m\u001b[1;33m.\u001b[0m\u001b[0mcall\u001b[0m\u001b[1;33m(\u001b[0m\u001b[1;33m[\u001b[0m\u001b[1;34m\"shut down\"\u001b[0m\u001b[1;33m,\u001b[0m\u001b[1;34m\"/1\"\u001b[0m\u001b[1;33m]\u001b[0m\u001b[1;33m)\u001b[0m\u001b[1;33m\u001b[0m\u001b[1;33m\u001b[0m\u001b[0m\n\u001b[0m\u001b[0;32m     95\u001b[0m \u001b[0mtime\u001b[0m\u001b[1;33m.\u001b[0m\u001b[0msleep\u001b[0m\u001b[1;33m(\u001b[0m\u001b[1;36m3\u001b[0m\u001b[1;33m)\u001b[0m\u001b[1;33m\u001b[0m\u001b[1;33m\u001b[0m\u001b[0m\n",
      "\u001b[1;32m~\\Anaconda3\\lib\\subprocess.py\u001b[0m in \u001b[0;36mcall\u001b[1;34m(timeout, *popenargs, **kwargs)\u001b[0m\n\u001b[0;32m    285\u001b[0m     \u001b[0mretcode\u001b[0m \u001b[1;33m=\u001b[0m \u001b[0mcall\u001b[0m\u001b[1;33m(\u001b[0m\u001b[1;33m[\u001b[0m\u001b[1;34m\"ls\"\u001b[0m\u001b[1;33m,\u001b[0m \u001b[1;34m\"-l\"\u001b[0m\u001b[1;33m]\u001b[0m\u001b[1;33m)\u001b[0m\u001b[1;33m\u001b[0m\u001b[1;33m\u001b[0m\u001b[0m\n\u001b[0;32m    286\u001b[0m     \"\"\"\n\u001b[1;32m--> 287\u001b[1;33m     \u001b[1;32mwith\u001b[0m \u001b[0mPopen\u001b[0m\u001b[1;33m(\u001b[0m\u001b[1;33m*\u001b[0m\u001b[0mpopenargs\u001b[0m\u001b[1;33m,\u001b[0m \u001b[1;33m**\u001b[0m\u001b[0mkwargs\u001b[0m\u001b[1;33m)\u001b[0m \u001b[1;32mas\u001b[0m \u001b[0mp\u001b[0m\u001b[1;33m:\u001b[0m\u001b[1;33m\u001b[0m\u001b[1;33m\u001b[0m\u001b[0m\n\u001b[0m\u001b[0;32m    288\u001b[0m         \u001b[1;32mtry\u001b[0m\u001b[1;33m:\u001b[0m\u001b[1;33m\u001b[0m\u001b[1;33m\u001b[0m\u001b[0m\n\u001b[0;32m    289\u001b[0m             \u001b[1;32mreturn\u001b[0m \u001b[0mp\u001b[0m\u001b[1;33m.\u001b[0m\u001b[0mwait\u001b[0m\u001b[1;33m(\u001b[0m\u001b[0mtimeout\u001b[0m\u001b[1;33m=\u001b[0m\u001b[0mtimeout\u001b[0m\u001b[1;33m)\u001b[0m\u001b[1;33m\u001b[0m\u001b[1;33m\u001b[0m\u001b[0m\n",
      "\u001b[1;32m~\\Anaconda3\\lib\\subprocess.py\u001b[0m in \u001b[0;36m__init__\u001b[1;34m(self, args, bufsize, executable, stdin, stdout, stderr, preexec_fn, close_fds, shell, cwd, env, universal_newlines, startupinfo, creationflags, restore_signals, start_new_session, pass_fds, encoding, errors)\u001b[0m\n\u001b[0;32m    727\u001b[0m                                 \u001b[0mc2pread\u001b[0m\u001b[1;33m,\u001b[0m \u001b[0mc2pwrite\u001b[0m\u001b[1;33m,\u001b[0m\u001b[1;33m\u001b[0m\u001b[1;33m\u001b[0m\u001b[0m\n\u001b[0;32m    728\u001b[0m                                 \u001b[0merrread\u001b[0m\u001b[1;33m,\u001b[0m \u001b[0merrwrite\u001b[0m\u001b[1;33m,\u001b[0m\u001b[1;33m\u001b[0m\u001b[1;33m\u001b[0m\u001b[0m\n\u001b[1;32m--> 729\u001b[1;33m                                 restore_signals, start_new_session)\n\u001b[0m\u001b[0;32m    730\u001b[0m         \u001b[1;32mexcept\u001b[0m\u001b[1;33m:\u001b[0m\u001b[1;33m\u001b[0m\u001b[1;33m\u001b[0m\u001b[0m\n\u001b[0;32m    731\u001b[0m             \u001b[1;31m# Cleanup if the child failed starting.\u001b[0m\u001b[1;33m\u001b[0m\u001b[1;33m\u001b[0m\u001b[1;33m\u001b[0m\u001b[0m\n",
      "\u001b[1;32m~\\Anaconda3\\lib\\subprocess.py\u001b[0m in \u001b[0;36m_execute_child\u001b[1;34m(self, args, executable, preexec_fn, close_fds, pass_fds, cwd, env, startupinfo, creationflags, shell, p2cread, p2cwrite, c2pread, c2pwrite, errread, errwrite, unused_restore_signals, unused_start_new_session)\u001b[0m\n\u001b[0;32m   1015\u001b[0m                                          \u001b[0menv\u001b[0m\u001b[1;33m,\u001b[0m\u001b[1;33m\u001b[0m\u001b[1;33m\u001b[0m\u001b[0m\n\u001b[0;32m   1016\u001b[0m                                          \u001b[0mos\u001b[0m\u001b[1;33m.\u001b[0m\u001b[0mfspath\u001b[0m\u001b[1;33m(\u001b[0m\u001b[0mcwd\u001b[0m\u001b[1;33m)\u001b[0m \u001b[1;32mif\u001b[0m \u001b[0mcwd\u001b[0m \u001b[1;32mis\u001b[0m \u001b[1;32mnot\u001b[0m \u001b[1;32mNone\u001b[0m \u001b[1;32melse\u001b[0m \u001b[1;32mNone\u001b[0m\u001b[1;33m,\u001b[0m\u001b[1;33m\u001b[0m\u001b[1;33m\u001b[0m\u001b[0m\n\u001b[1;32m-> 1017\u001b[1;33m                                          startupinfo)\n\u001b[0m\u001b[0;32m   1018\u001b[0m             \u001b[1;32mfinally\u001b[0m\u001b[1;33m:\u001b[0m\u001b[1;33m\u001b[0m\u001b[1;33m\u001b[0m\u001b[0m\n\u001b[0;32m   1019\u001b[0m                 \u001b[1;31m# Child is launched. Close the parent's copy of those pipe\u001b[0m\u001b[1;33m\u001b[0m\u001b[1;33m\u001b[0m\u001b[1;33m\u001b[0m\u001b[0m\n",
      "\u001b[1;31mFileNotFoundError\u001b[0m: [WinError 2] The system cannot find the file specified"
     ]
    }
   ],
   "source": [
    "if __name__=='__main__':\n",
    "    while True:\n",
    "        speak(\"How can I help U?\")\n",
    "        statement=takeCommand().lower()\n",
    "        if statement==0:\n",
    "            continue\n",
    "        if \"good Bye\" in statement or \"OK Bye\" in statement or \"stop\" in statement:\n",
    "            speak(\"Ur AI assistant is shutting down,Good Bye\")\n",
    "            print(\"Ur AI assistant is shutting down,Good Bye\")\n",
    "            break\n",
    "                \n",
    "        if 'wikipedia' in statement:\n",
    "            speak(\"searching wikipedia\")\n",
    "            statement=statement.replace(\"wikipedia\",\" \")\n",
    "            results=wikipedia.summary(statement,sentences=3)\n",
    "            speak(\"According to wikipedia...\")\n",
    "            print(results)\n",
    "            speak(results)\n",
    "            \n",
    "        elif \"open youtube\" in statement:\n",
    "            webbrowser.open_new_tab(\"https://www.youtube.com\")\n",
    "            speak(\"Youtube is opening for u\")\n",
    "            time.sleep(5)\n",
    "            \n",
    "        elif \"open google\" in statement:\n",
    "            webbrowser.open_new_tab(\"https://www.google.com\")\n",
    "            speak(\"Google is opening for u\")\n",
    "            time.sleep(5)\n",
    "            \n",
    "        elif \"open gmail\" in statement:\n",
    "            webbrowser.open_new_tab(\"https://www.gmail.com\")\n",
    "            speak(\"Gmail is opening....\")\n",
    "            time.sleep(5)\n",
    "            \n",
    "        elif \"weather\" in statement:\n",
    "            api_key=\"8ef61edcf1c576d65d836254e11ea420\"\n",
    "            base_url=\"https://api.openweathermap.org/data/2.5/weather?\"\n",
    "            speak(\"whats the city name\")\n",
    "            city_name=takeCommand()\n",
    "            complete_url= base_url+\"appid=\"+api_key+\"&q=\"+city_name\n",
    "            response= requests.get(complete_url)\n",
    "            x=response.json();\n",
    "            if x[\"cod\"]!=\"404\":\n",
    "                y=x[\"main\"]\n",
    "                current_temperature=y[\"temp\"]\n",
    "                current_humidity=y[\"humidity\"]\n",
    "                z=x[\"weather\"]\n",
    "                weather_description=z[0][\"description\"]\n",
    "                speak(\"the temperature in kelvin units is \" + str(current_temperature) + \"\\n the humidity in percentage is \" +\n",
    "                      str(current_humidity) +\"\\n weather description\" + str(weather_description))\n",
    "                print(\"the temperature in kelvin units is \" + str(current_temperature) + \"\\n the humidity in percentage is \" +\n",
    "                      str(current_humidity) +\"\\n weather description\" + str(weather_description))\n",
    "            else:\n",
    "                print(\"city not found\")\n",
    "                speak(\"city not found\")\n",
    "        elif \"time\" in statement:\n",
    "            strTime=datetime.datetime.now().strftime(\"%H: %M: %S\")\n",
    "            speak(f\"the time is {strTime}\")\n",
    "        \n",
    "        elif \"who are you\" in statement or \"what can you do\" in statement:\n",
    "             speak(\"It is AI personal voice assistant.I am programmed to minar tasks like open google,open gmail,open youtube,predict the weather in different cities and time,take a photo,search wikipedia,top headlines from the Newspaperand other computation too!\")\n",
    "                                                       \n",
    "        elif \"who made you \" in statement or \"who created you\" in statement or \"who discoverd you\" in statement:\n",
    "            speak(\"I was build by AI aerobosoft\") \n",
    "            print(\"I was build by AI aerobosoft\") \n",
    "                                                \n",
    "                                                       \n",
    "        elif \"open stack overflow\" in statement:\n",
    "             webbrowser.open_new_tab(\"https://stackoverflow.com\\login\") \n",
    "             time.sleep(5)\n",
    "        \n",
    "        elif \"news\" in statement:\n",
    "             news=webbrowser.open_new_tab(\"https://timesofindia.indiatimes.com/home.headlines\")                                        \n",
    "             speak(\"here some headlines from Times of India ... happy Reading!\")\n",
    "             time.sleep(7)\n",
    "        \n",
    "        elif \"search\" in statement:\n",
    "            statement=statement.replace(\"search\",\" \")\n",
    "            webbrowser.open_new_tab(\"statement\")\n",
    "            time.sleep(7)\n",
    "        elif  \"ask\" in statement:\n",
    "             speak(\"I can answer computational and geographical questions too just try me!.. What can I do now?\")\n",
    "             question=takeCommand()\n",
    "             app_key=\"R2K75H-7ELALHR35X\"  \n",
    "             client=wolframalpha.Client('R2K75H-7ELALHR35X')  \n",
    "             res=client.query(question)\n",
    "             answer=next(res.results).text\n",
    "             speak(answer)\n",
    "             print(answer)                                      \n",
    "                                                       \n",
    "                                                       \n",
    "        elif \"log off\" in statement or \"shut down\" in statement or \"sign out\" in statement :\n",
    "             speak(\"ok.. your Pc will shutdown in 10 seconds -make sure that you saved your code and exit the application\")\n",
    "             subprocess.call([\"shut down\",\"/1\"]) \n",
    "time.sleep(3)                                                   "
   ]
  },
  {
   "cell_type": "code",
   "execution_count": null,
   "metadata": {},
   "outputs": [],
   "source": [
    "\n",
    "                                                    "
   ]
  },
  {
   "cell_type": "code",
   "execution_count": null,
   "metadata": {},
   "outputs": [],
   "source": []
  }
 ],
 "metadata": {
  "kernelspec": {
   "display_name": "Python 3",
   "language": "python",
   "name": "python3"
  },
  "language_info": {
   "codemirror_mode": {
    "name": "ipython",
    "version": 3
   },
   "file_extension": ".py",
   "mimetype": "text/x-python",
   "name": "python",
   "nbconvert_exporter": "python",
   "pygments_lexer": "ipython3",
   "version": "3.6.9"
  }
 },
 "nbformat": 4,
 "nbformat_minor": 2
}
