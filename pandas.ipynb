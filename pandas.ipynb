{
  "nbformat": 4,
  "nbformat_minor": 0,
  "metadata": {
    "colab": {
      "name": "pandas.ipynb",
      "provenance": [],
      "collapsed_sections": []
    },
    "kernelspec": {
      "name": "python3",
      "display_name": "Python 3"
    },
    "language_info": {
      "name": "python"
    }
  },
  "cells": [
    {
      "cell_type": "code",
      "metadata": {
        "colab": {
          "base_uri": "https://localhost:8080/",
          "height": 35
        },
        "id": "zdAeItX1DWEE",
        "outputId": "23010995-ed49-4b5e-bfe7-eca02b997080"
      },
      "source": [
        "import pandas\n",
        "pandas.__version__"
      ],
      "execution_count": 1,
      "outputs": [
        {
          "output_type": "execute_result",
          "data": {
            "application/vnd.google.colaboratory.intrinsic+json": {
              "type": "string"
            },
            "text/plain": [
              "'1.1.5'"
            ]
          },
          "metadata": {
            "tags": []
          },
          "execution_count": 1
        }
      ]
    },
    {
      "cell_type": "code",
      "metadata": {
        "id": "yTHIere9Db8N"
      },
      "source": [
        "import numpy as np\n",
        "import pandas as pd"
      ],
      "execution_count": 3,
      "outputs": []
    },
    {
      "cell_type": "code",
      "metadata": {
        "colab": {
          "base_uri": "https://localhost:8080/"
        },
        "id": "NWhRL2wWDcSQ",
        "outputId": "b1067615-a175-45ce-b82c-5142dded7495"
      },
      "source": [
        "counts = pd.Series([632, 1638, 569, 115])\n",
        "counts"
      ],
      "execution_count": 4,
      "outputs": [
        {
          "output_type": "execute_result",
          "data": {
            "text/plain": [
              "0     632\n",
              "1    1638\n",
              "2     569\n",
              "3     115\n",
              "dtype: int64"
            ]
          },
          "metadata": {
            "tags": []
          },
          "execution_count": 4
        }
      ]
    },
    {
      "cell_type": "code",
      "metadata": {
        "colab": {
          "base_uri": "https://localhost:8080/"
        },
        "id": "vKKoXLwQDcpR",
        "outputId": "cd58ebd6-ef85-44dd-df7c-ef6c1663ed0f"
      },
      "source": [
        "counts.values"
      ],
      "execution_count": 5,
      "outputs": [
        {
          "output_type": "execute_result",
          "data": {
            "text/plain": [
              "array([ 632, 1638,  569,  115])"
            ]
          },
          "metadata": {
            "tags": []
          },
          "execution_count": 5
        }
      ]
    },
    {
      "cell_type": "code",
      "metadata": {
        "colab": {
          "base_uri": "https://localhost:8080/"
        },
        "id": "qAsNfzEcDdC4",
        "outputId": "7dac15bb-87ba-4d72-bdc4-0eeaf8377b1d"
      },
      "source": [
        "counts.index"
      ],
      "execution_count": 6,
      "outputs": [
        {
          "output_type": "execute_result",
          "data": {
            "text/plain": [
              "RangeIndex(start=0, stop=4, step=1)"
            ]
          },
          "metadata": {
            "tags": []
          },
          "execution_count": 6
        }
      ]
    },
    {
      "cell_type": "code",
      "metadata": {
        "colab": {
          "base_uri": "https://localhost:8080/"
        },
        "id": "ZHKPWxvCED3e",
        "outputId": "fff4ed5b-9aba-42e8-e4a3-ee5d48721b12"
      },
      "source": [
        "bacteria = pd.Series([632, 1638, 569, 115], \n",
        "    index=['Firmicutes', 'Proteobacteria', 'Actinobacteria', 'Bacteroidetes'])\n",
        "bacteria"
      ],
      "execution_count": 9,
      "outputs": [
        {
          "output_type": "execute_result",
          "data": {
            "text/plain": [
              "Firmicutes         632\n",
              "Proteobacteria    1638\n",
              "Actinobacteria     569\n",
              "Bacteroidetes      115\n",
              "dtype: int64"
            ]
          },
          "metadata": {
            "tags": []
          },
          "execution_count": 9
        }
      ]
    },
    {
      "cell_type": "code",
      "metadata": {
        "colab": {
          "base_uri": "https://localhost:8080/"
        },
        "id": "A-liUTfhEEPy",
        "outputId": "eb9417e0-fdb3-4638-868b-e46ef4855dbf"
      },
      "source": [
        "bacteria['Actinobacteria']"
      ],
      "execution_count": 10,
      "outputs": [
        {
          "output_type": "execute_result",
          "data": {
            "text/plain": [
              "569"
            ]
          },
          "metadata": {
            "tags": []
          },
          "execution_count": 10
        }
      ]
    },
    {
      "cell_type": "code",
      "metadata": {
        "colab": {
          "base_uri": "https://localhost:8080/"
        },
        "id": "3KbAGmKXEVii",
        "outputId": "00349661-2031-4b4e-b1dc-272db38067db"
      },
      "source": [
        "bacteria[0]"
      ],
      "execution_count": 11,
      "outputs": [
        {
          "output_type": "execute_result",
          "data": {
            "text/plain": [
              "632"
            ]
          },
          "metadata": {
            "tags": []
          },
          "execution_count": 11
        }
      ]
    },
    {
      "cell_type": "code",
      "metadata": {
        "colab": {
          "base_uri": "https://localhost:8080/"
        },
        "id": "Cn6vJ3CjEcS_",
        "outputId": "eb28cdeb-f56b-44b3-cfe7-39c35cd7dab5"
      },
      "source": [
        "bacteria.name = 'counts'\n",
        "bacteria.index.name = 'phylum'\n",
        "bacteria"
      ],
      "execution_count": 12,
      "outputs": [
        {
          "output_type": "execute_result",
          "data": {
            "text/plain": [
              "phylum\n",
              "Firmicutes         632\n",
              "Proteobacteria    1638\n",
              "Actinobacteria     569\n",
              "Bacteroidetes      115\n",
              "Name: counts, dtype: int64"
            ]
          },
          "metadata": {
            "tags": []
          },
          "execution_count": 12
        }
      ]
    },
    {
      "cell_type": "code",
      "metadata": {
        "colab": {
          "base_uri": "https://localhost:8080/"
        },
        "id": "l0bxlQc4EcxS",
        "outputId": "a797004a-2287-4d70-da98-f1999c7fd915"
      },
      "source": [
        "np.log(bacteria)"
      ],
      "execution_count": 13,
      "outputs": [
        {
          "output_type": "execute_result",
          "data": {
            "text/plain": [
              "phylum\n",
              "Firmicutes        6.448889\n",
              "Proteobacteria    7.401231\n",
              "Actinobacteria    6.343880\n",
              "Bacteroidetes     4.744932\n",
              "Name: counts, dtype: float64"
            ]
          },
          "metadata": {
            "tags": []
          },
          "execution_count": 13
        }
      ]
    },
    {
      "cell_type": "code",
      "metadata": {
        "colab": {
          "base_uri": "https://localhost:8080/"
        },
        "id": "9RYTu25KEdIw",
        "outputId": "57fdb4ac-8371-457f-cdec-3e5339d2b5c6"
      },
      "source": [
        "bacteria[bacteria>1000]"
      ],
      "execution_count": 14,
      "outputs": [
        {
          "output_type": "execute_result",
          "data": {
            "text/plain": [
              "phylum\n",
              "Proteobacteria    1638\n",
              "Name: counts, dtype: int64"
            ]
          },
          "metadata": {
            "tags": []
          },
          "execution_count": 14
        }
      ]
    },
    {
      "cell_type": "code",
      "metadata": {
        "colab": {
          "base_uri": "https://localhost:8080/"
        },
        "id": "JP6JA8T4EmPM",
        "outputId": "6e73f61f-99f1-48e5-ab05-0827a818750c"
      },
      "source": [
        "bacteria_dict = {'Firmicutes': 632, 'Proteobacteria': 1500, 'Actinobacteria': 569, 'Bacteroidetes': 115}\n",
        "print(bacteria_dict)\n",
        "pd.Series(bacteria_dict)"
      ],
      "execution_count": 15,
      "outputs": [
        {
          "output_type": "stream",
          "text": [
            "{'Firmicutes': 632, 'Proteobacteria': 1500, 'Actinobacteria': 569, 'Bacteroidetes': 115}\n"
          ],
          "name": "stdout"
        },
        {
          "output_type": "execute_result",
          "data": {
            "text/plain": [
              "Firmicutes         632\n",
              "Proteobacteria    1500\n",
              "Actinobacteria     569\n",
              "Bacteroidetes      115\n",
              "dtype: int64"
            ]
          },
          "metadata": {
            "tags": []
          },
          "execution_count": 15
        }
      ]
    },
    {
      "cell_type": "code",
      "metadata": {
        "colab": {
          "base_uri": "https://localhost:8080/",
          "height": 221
        },
        "id": "SV2YGCoxEmnJ",
        "outputId": "ece11fb1-6ad0-4cac-bcce-e449b564a25b"
      },
      "source": [
        "data = {\"Province\": [\"FL\", \"FL\", \"NH\", \"NH\", \"ZH\"],\n",
        "        \"Year\": [2013, 2014, 2013, 2014, 2014],\n",
        "        \"Literacy\": [0.2, 0.1, 0.5, 0.3, 0.5]}\n",
        "print(data)\n",
        "data = pd.DataFrame(data)\n",
        "data"
      ],
      "execution_count": 16,
      "outputs": [
        {
          "output_type": "stream",
          "text": [
            "{'Province': ['FL', 'FL', 'NH', 'NH', 'ZH'], 'Year': [2013, 2014, 2013, 2014, 2014], 'Literacy': [0.2, 0.1, 0.5, 0.3, 0.5]}\n"
          ],
          "name": "stdout"
        },
        {
          "output_type": "execute_result",
          "data": {
            "text/html": [
              "<div>\n",
              "<style scoped>\n",
              "    .dataframe tbody tr th:only-of-type {\n",
              "        vertical-align: middle;\n",
              "    }\n",
              "\n",
              "    .dataframe tbody tr th {\n",
              "        vertical-align: top;\n",
              "    }\n",
              "\n",
              "    .dataframe thead th {\n",
              "        text-align: right;\n",
              "    }\n",
              "</style>\n",
              "<table border=\"1\" class=\"dataframe\">\n",
              "  <thead>\n",
              "    <tr style=\"text-align: right;\">\n",
              "      <th></th>\n",
              "      <th>Province</th>\n",
              "      <th>Year</th>\n",
              "      <th>Literacy</th>\n",
              "    </tr>\n",
              "  </thead>\n",
              "  <tbody>\n",
              "    <tr>\n",
              "      <th>0</th>\n",
              "      <td>FL</td>\n",
              "      <td>2013</td>\n",
              "      <td>0.2</td>\n",
              "    </tr>\n",
              "    <tr>\n",
              "      <th>1</th>\n",
              "      <td>FL</td>\n",
              "      <td>2014</td>\n",
              "      <td>0.1</td>\n",
              "    </tr>\n",
              "    <tr>\n",
              "      <th>2</th>\n",
              "      <td>NH</td>\n",
              "      <td>2013</td>\n",
              "      <td>0.5</td>\n",
              "    </tr>\n",
              "    <tr>\n",
              "      <th>3</th>\n",
              "      <td>NH</td>\n",
              "      <td>2014</td>\n",
              "      <td>0.3</td>\n",
              "    </tr>\n",
              "    <tr>\n",
              "      <th>4</th>\n",
              "      <td>ZH</td>\n",
              "      <td>2014</td>\n",
              "      <td>0.5</td>\n",
              "    </tr>\n",
              "  </tbody>\n",
              "</table>\n",
              "</div>"
            ],
            "text/plain": [
              "  Province  Year  Literacy\n",
              "0       FL  2013       0.2\n",
              "1       FL  2014       0.1\n",
              "2       NH  2013       0.5\n",
              "3       NH  2014       0.3\n",
              "4       ZH  2014       0.5"
            ]
          },
          "metadata": {
            "tags": []
          },
          "execution_count": 16
        }
      ]
    },
    {
      "cell_type": "code",
      "metadata": {
        "colab": {
          "base_uri": "https://localhost:8080/",
          "height": 204
        },
        "id": "PzHwXCaMFLoS",
        "outputId": "6bf9893f-29a5-4e58-da9b-2a35f0deb956"
      },
      "source": [
        "df = pd.DataFrame(data, columns=[\"Year\", \"Province\" ,\"Literacy\"])\n",
        "df"
      ],
      "execution_count": 17,
      "outputs": [
        {
          "output_type": "execute_result",
          "data": {
            "text/html": [
              "<div>\n",
              "<style scoped>\n",
              "    .dataframe tbody tr th:only-of-type {\n",
              "        vertical-align: middle;\n",
              "    }\n",
              "\n",
              "    .dataframe tbody tr th {\n",
              "        vertical-align: top;\n",
              "    }\n",
              "\n",
              "    .dataframe thead th {\n",
              "        text-align: right;\n",
              "    }\n",
              "</style>\n",
              "<table border=\"1\" class=\"dataframe\">\n",
              "  <thead>\n",
              "    <tr style=\"text-align: right;\">\n",
              "      <th></th>\n",
              "      <th>Year</th>\n",
              "      <th>Province</th>\n",
              "      <th>Literacy</th>\n",
              "    </tr>\n",
              "  </thead>\n",
              "  <tbody>\n",
              "    <tr>\n",
              "      <th>0</th>\n",
              "      <td>2013</td>\n",
              "      <td>FL</td>\n",
              "      <td>0.2</td>\n",
              "    </tr>\n",
              "    <tr>\n",
              "      <th>1</th>\n",
              "      <td>2014</td>\n",
              "      <td>FL</td>\n",
              "      <td>0.1</td>\n",
              "    </tr>\n",
              "    <tr>\n",
              "      <th>2</th>\n",
              "      <td>2013</td>\n",
              "      <td>NH</td>\n",
              "      <td>0.5</td>\n",
              "    </tr>\n",
              "    <tr>\n",
              "      <th>3</th>\n",
              "      <td>2014</td>\n",
              "      <td>NH</td>\n",
              "      <td>0.3</td>\n",
              "    </tr>\n",
              "    <tr>\n",
              "      <th>4</th>\n",
              "      <td>2014</td>\n",
              "      <td>ZH</td>\n",
              "      <td>0.5</td>\n",
              "    </tr>\n",
              "  </tbody>\n",
              "</table>\n",
              "</div>"
            ],
            "text/plain": [
              "   Year Province  Literacy\n",
              "0  2013       FL       0.2\n",
              "1  2014       FL       0.1\n",
              "2  2013       NH       0.5\n",
              "3  2014       NH       0.3\n",
              "4  2014       ZH       0.5"
            ]
          },
          "metadata": {
            "tags": []
          },
          "execution_count": 17
        }
      ]
    },
    {
      "cell_type": "code",
      "metadata": {
        "colab": {
          "base_uri": "https://localhost:8080/",
          "height": 204
        },
        "id": "TENPzxhAFL_M",
        "outputId": "4599f707-eacf-489f-91fd-2d4dae735a1a"
      },
      "source": [
        "df['nonsense'] = df.Year / df.Literacy\n",
        "df"
      ],
      "execution_count": 18,
      "outputs": [
        {
          "output_type": "execute_result",
          "data": {
            "text/html": [
              "<div>\n",
              "<style scoped>\n",
              "    .dataframe tbody tr th:only-of-type {\n",
              "        vertical-align: middle;\n",
              "    }\n",
              "\n",
              "    .dataframe tbody tr th {\n",
              "        vertical-align: top;\n",
              "    }\n",
              "\n",
              "    .dataframe thead th {\n",
              "        text-align: right;\n",
              "    }\n",
              "</style>\n",
              "<table border=\"1\" class=\"dataframe\">\n",
              "  <thead>\n",
              "    <tr style=\"text-align: right;\">\n",
              "      <th></th>\n",
              "      <th>Year</th>\n",
              "      <th>Province</th>\n",
              "      <th>Literacy</th>\n",
              "      <th>nonsense</th>\n",
              "    </tr>\n",
              "  </thead>\n",
              "  <tbody>\n",
              "    <tr>\n",
              "      <th>0</th>\n",
              "      <td>2013</td>\n",
              "      <td>FL</td>\n",
              "      <td>0.2</td>\n",
              "      <td>10065.000000</td>\n",
              "    </tr>\n",
              "    <tr>\n",
              "      <th>1</th>\n",
              "      <td>2014</td>\n",
              "      <td>FL</td>\n",
              "      <td>0.1</td>\n",
              "      <td>20140.000000</td>\n",
              "    </tr>\n",
              "    <tr>\n",
              "      <th>2</th>\n",
              "      <td>2013</td>\n",
              "      <td>NH</td>\n",
              "      <td>0.5</td>\n",
              "      <td>4026.000000</td>\n",
              "    </tr>\n",
              "    <tr>\n",
              "      <th>3</th>\n",
              "      <td>2014</td>\n",
              "      <td>NH</td>\n",
              "      <td>0.3</td>\n",
              "      <td>6713.333333</td>\n",
              "    </tr>\n",
              "    <tr>\n",
              "      <th>4</th>\n",
              "      <td>2014</td>\n",
              "      <td>ZH</td>\n",
              "      <td>0.5</td>\n",
              "      <td>4028.000000</td>\n",
              "    </tr>\n",
              "  </tbody>\n",
              "</table>\n",
              "</div>"
            ],
            "text/plain": [
              "   Year Province  Literacy      nonsense\n",
              "0  2013       FL       0.2  10065.000000\n",
              "1  2014       FL       0.1  20140.000000\n",
              "2  2013       NH       0.5   4026.000000\n",
              "3  2014       NH       0.3   6713.333333\n",
              "4  2014       ZH       0.5   4028.000000"
            ]
          },
          "metadata": {
            "tags": []
          },
          "execution_count": 18
        }
      ]
    },
    {
      "cell_type": "code",
      "metadata": {
        "colab": {
          "base_uri": "https://localhost:8080/",
          "height": 204
        },
        "id": "Qxg_IWHlFZ7I",
        "outputId": "07357b99-234c-4fbb-90d8-1dcc3a8eb682"
      },
      "source": [
        "df['Serie_aligned'] = pd.Series(range(5), index=[0,1,2, 3, 4])\n",
        "df"
      ],
      "execution_count": 19,
      "outputs": [
        {
          "output_type": "execute_result",
          "data": {
            "text/html": [
              "<div>\n",
              "<style scoped>\n",
              "    .dataframe tbody tr th:only-of-type {\n",
              "        vertical-align: middle;\n",
              "    }\n",
              "\n",
              "    .dataframe tbody tr th {\n",
              "        vertical-align: top;\n",
              "    }\n",
              "\n",
              "    .dataframe thead th {\n",
              "        text-align: right;\n",
              "    }\n",
              "</style>\n",
              "<table border=\"1\" class=\"dataframe\">\n",
              "  <thead>\n",
              "    <tr style=\"text-align: right;\">\n",
              "      <th></th>\n",
              "      <th>Year</th>\n",
              "      <th>Province</th>\n",
              "      <th>Literacy</th>\n",
              "      <th>nonsense</th>\n",
              "      <th>Serie_aligned</th>\n",
              "    </tr>\n",
              "  </thead>\n",
              "  <tbody>\n",
              "    <tr>\n",
              "      <th>0</th>\n",
              "      <td>2013</td>\n",
              "      <td>FL</td>\n",
              "      <td>0.2</td>\n",
              "      <td>10065.000000</td>\n",
              "      <td>0</td>\n",
              "    </tr>\n",
              "    <tr>\n",
              "      <th>1</th>\n",
              "      <td>2014</td>\n",
              "      <td>FL</td>\n",
              "      <td>0.1</td>\n",
              "      <td>20140.000000</td>\n",
              "      <td>1</td>\n",
              "    </tr>\n",
              "    <tr>\n",
              "      <th>2</th>\n",
              "      <td>2013</td>\n",
              "      <td>NH</td>\n",
              "      <td>0.5</td>\n",
              "      <td>4026.000000</td>\n",
              "      <td>2</td>\n",
              "    </tr>\n",
              "    <tr>\n",
              "      <th>3</th>\n",
              "      <td>2014</td>\n",
              "      <td>NH</td>\n",
              "      <td>0.3</td>\n",
              "      <td>6713.333333</td>\n",
              "      <td>3</td>\n",
              "    </tr>\n",
              "    <tr>\n",
              "      <th>4</th>\n",
              "      <td>2014</td>\n",
              "      <td>ZH</td>\n",
              "      <td>0.5</td>\n",
              "      <td>4028.000000</td>\n",
              "      <td>4</td>\n",
              "    </tr>\n",
              "  </tbody>\n",
              "</table>\n",
              "</div>"
            ],
            "text/plain": [
              "   Year Province  Literacy      nonsense  Serie_aligned\n",
              "0  2013       FL       0.2  10065.000000              0\n",
              "1  2014       FL       0.1  20140.000000              1\n",
              "2  2013       NH       0.5   4026.000000              2\n",
              "3  2014       NH       0.3   6713.333333              3\n",
              "4  2014       ZH       0.5   4028.000000              4"
            ]
          },
          "metadata": {
            "tags": []
          },
          "execution_count": 19
        }
      ]
    },
    {
      "cell_type": "code",
      "metadata": {
        "colab": {
          "base_uri": "https://localhost:8080/"
        },
        "id": "iM3h5JrOFaRO",
        "outputId": "423fb43c-6663-48f2-b3eb-c97aa1deeccb"
      },
      "source": [
        "df.to_dict()"
      ],
      "execution_count": 20,
      "outputs": [
        {
          "output_type": "execute_result",
          "data": {
            "text/plain": [
              "{'Literacy': {0: 0.2, 1: 0.1, 2: 0.5, 3: 0.3, 4: 0.5},\n",
              " 'Province': {0: 'FL', 1: 'FL', 2: 'NH', 3: 'NH', 4: 'ZH'},\n",
              " 'Serie_aligned': {0: 0, 1: 1, 2: 2, 3: 3, 4: 4},\n",
              " 'Year': {0: 2013, 1: 2014, 2: 2013, 3: 2014, 4: 2014},\n",
              " 'nonsense': {0: 10065.0,\n",
              "  1: 20140.0,\n",
              "  2: 4026.0,\n",
              "  3: 6713.333333333334,\n",
              "  4: 4028.0}}"
            ]
          },
          "metadata": {
            "tags": []
          },
          "execution_count": 20
        }
      ]
    },
    {
      "cell_type": "code",
      "metadata": {
        "colab": {
          "base_uri": "https://localhost:8080/",
          "height": 204
        },
        "id": "r4edb22EFxMj",
        "outputId": "f4b76c71-bdd3-4956-9e66-6a62002509ce"
      },
      "source": [
        "pd.DataFrame(df.to_dict())"
      ],
      "execution_count": 21,
      "outputs": [
        {
          "output_type": "execute_result",
          "data": {
            "text/html": [
              "<div>\n",
              "<style scoped>\n",
              "    .dataframe tbody tr th:only-of-type {\n",
              "        vertical-align: middle;\n",
              "    }\n",
              "\n",
              "    .dataframe tbody tr th {\n",
              "        vertical-align: top;\n",
              "    }\n",
              "\n",
              "    .dataframe thead th {\n",
              "        text-align: right;\n",
              "    }\n",
              "</style>\n",
              "<table border=\"1\" class=\"dataframe\">\n",
              "  <thead>\n",
              "    <tr style=\"text-align: right;\">\n",
              "      <th></th>\n",
              "      <th>Year</th>\n",
              "      <th>Province</th>\n",
              "      <th>Literacy</th>\n",
              "      <th>nonsense</th>\n",
              "      <th>Serie_aligned</th>\n",
              "    </tr>\n",
              "  </thead>\n",
              "  <tbody>\n",
              "    <tr>\n",
              "      <th>0</th>\n",
              "      <td>2013</td>\n",
              "      <td>FL</td>\n",
              "      <td>0.2</td>\n",
              "      <td>10065.000000</td>\n",
              "      <td>0</td>\n",
              "    </tr>\n",
              "    <tr>\n",
              "      <th>1</th>\n",
              "      <td>2014</td>\n",
              "      <td>FL</td>\n",
              "      <td>0.1</td>\n",
              "      <td>20140.000000</td>\n",
              "      <td>1</td>\n",
              "    </tr>\n",
              "    <tr>\n",
              "      <th>2</th>\n",
              "      <td>2013</td>\n",
              "      <td>NH</td>\n",
              "      <td>0.5</td>\n",
              "      <td>4026.000000</td>\n",
              "      <td>2</td>\n",
              "    </tr>\n",
              "    <tr>\n",
              "      <th>3</th>\n",
              "      <td>2014</td>\n",
              "      <td>NH</td>\n",
              "      <td>0.3</td>\n",
              "      <td>6713.333333</td>\n",
              "      <td>3</td>\n",
              "    </tr>\n",
              "    <tr>\n",
              "      <th>4</th>\n",
              "      <td>2014</td>\n",
              "      <td>ZH</td>\n",
              "      <td>0.5</td>\n",
              "      <td>4028.000000</td>\n",
              "      <td>4</td>\n",
              "    </tr>\n",
              "  </tbody>\n",
              "</table>\n",
              "</div>"
            ],
            "text/plain": [
              "   Year Province  Literacy      nonsense  Serie_aligned\n",
              "0  2013       FL       0.2  10065.000000              0\n",
              "1  2014       FL       0.1  20140.000000              1\n",
              "2  2013       NH       0.5   4026.000000              2\n",
              "3  2014       NH       0.3   6713.333333              3\n",
              "4  2014       ZH       0.5   4028.000000              4"
            ]
          },
          "metadata": {
            "tags": []
          },
          "execution_count": 21
        }
      ]
    },
    {
      "cell_type": "code",
      "metadata": {
        "colab": {
          "base_uri": "https://localhost:8080/",
          "height": 252
        },
        "id": "t8GUSrItFxvb",
        "outputId": "61046cc0-7a35-4442-f131-fcb8dea15a36"
      },
      "source": [
        "data = [{'a': i, 'b':10* i}for i in range(6)]\n",
        "print(data)\n",
        "pd.DataFrame(data)"
      ],
      "execution_count": 22,
      "outputs": [
        {
          "output_type": "stream",
          "text": [
            "[{'a': 0, 'b': 0}, {'a': 1, 'b': 10}, {'a': 2, 'b': 20}, {'a': 3, 'b': 30}, {'a': 4, 'b': 40}, {'a': 5, 'b': 50}]\n"
          ],
          "name": "stdout"
        },
        {
          "output_type": "execute_result",
          "data": {
            "text/html": [
              "<div>\n",
              "<style scoped>\n",
              "    .dataframe tbody tr th:only-of-type {\n",
              "        vertical-align: middle;\n",
              "    }\n",
              "\n",
              "    .dataframe tbody tr th {\n",
              "        vertical-align: top;\n",
              "    }\n",
              "\n",
              "    .dataframe thead th {\n",
              "        text-align: right;\n",
              "    }\n",
              "</style>\n",
              "<table border=\"1\" class=\"dataframe\">\n",
              "  <thead>\n",
              "    <tr style=\"text-align: right;\">\n",
              "      <th></th>\n",
              "      <th>a</th>\n",
              "      <th>b</th>\n",
              "    </tr>\n",
              "  </thead>\n",
              "  <tbody>\n",
              "    <tr>\n",
              "      <th>0</th>\n",
              "      <td>0</td>\n",
              "      <td>0</td>\n",
              "    </tr>\n",
              "    <tr>\n",
              "      <th>1</th>\n",
              "      <td>1</td>\n",
              "      <td>10</td>\n",
              "    </tr>\n",
              "    <tr>\n",
              "      <th>2</th>\n",
              "      <td>2</td>\n",
              "      <td>20</td>\n",
              "    </tr>\n",
              "    <tr>\n",
              "      <th>3</th>\n",
              "      <td>3</td>\n",
              "      <td>30</td>\n",
              "    </tr>\n",
              "    <tr>\n",
              "      <th>4</th>\n",
              "      <td>4</td>\n",
              "      <td>40</td>\n",
              "    </tr>\n",
              "    <tr>\n",
              "      <th>5</th>\n",
              "      <td>5</td>\n",
              "      <td>50</td>\n",
              "    </tr>\n",
              "  </tbody>\n",
              "</table>\n",
              "</div>"
            ],
            "text/plain": [
              "   a   b\n",
              "0  0   0\n",
              "1  1  10\n",
              "2  2  20\n",
              "3  3  30\n",
              "4  4  40\n",
              "5  5  50"
            ]
          },
          "metadata": {
            "tags": []
          },
          "execution_count": 22
        }
      ]
    },
    {
      "cell_type": "code",
      "metadata": {
        "colab": {
          "base_uri": "https://localhost:8080/",
          "height": 111
        },
        "id": "Bmu_OHAHFyGr",
        "outputId": "c36542a5-e3c2-4327-c4b4-7bce39d41ee4"
      },
      "source": [
        "pd.DataFrame([{'aa': 1, 'bb': 2}, {'bb': 3, 'cc': 6}])"
      ],
      "execution_count": 23,
      "outputs": [
        {
          "output_type": "execute_result",
          "data": {
            "text/html": [
              "<div>\n",
              "<style scoped>\n",
              "    .dataframe tbody tr th:only-of-type {\n",
              "        vertical-align: middle;\n",
              "    }\n",
              "\n",
              "    .dataframe tbody tr th {\n",
              "        vertical-align: top;\n",
              "    }\n",
              "\n",
              "    .dataframe thead th {\n",
              "        text-align: right;\n",
              "    }\n",
              "</style>\n",
              "<table border=\"1\" class=\"dataframe\">\n",
              "  <thead>\n",
              "    <tr style=\"text-align: right;\">\n",
              "      <th></th>\n",
              "      <th>aa</th>\n",
              "      <th>bb</th>\n",
              "      <th>cc</th>\n",
              "    </tr>\n",
              "  </thead>\n",
              "  <tbody>\n",
              "    <tr>\n",
              "      <th>0</th>\n",
              "      <td>1.0</td>\n",
              "      <td>2</td>\n",
              "      <td>NaN</td>\n",
              "    </tr>\n",
              "    <tr>\n",
              "      <th>1</th>\n",
              "      <td>NaN</td>\n",
              "      <td>3</td>\n",
              "      <td>6.0</td>\n",
              "    </tr>\n",
              "  </tbody>\n",
              "</table>\n",
              "</div>"
            ],
            "text/plain": [
              "    aa  bb   cc\n",
              "0  1.0   2  NaN\n",
              "1  NaN   3  6.0"
            ]
          },
          "metadata": {
            "tags": []
          },
          "execution_count": 23
        }
      ]
    },
    {
      "cell_type": "code",
      "metadata": {
        "colab": {
          "base_uri": "https://localhost:8080/",
          "height": 142
        },
        "id": "PmOPS_pZF8ZL",
        "outputId": "2a191e4a-72ed-4b04-e0a7-e6aa7465ec75"
      },
      "source": [
        "pd.DataFrame(np.random.randint(2, 12),\n",
        "             columns=['foo', 'bar'],\n",
        "             index=['a', 'b', 'c'])"
      ],
      "execution_count": 24,
      "outputs": [
        {
          "output_type": "execute_result",
          "data": {
            "text/html": [
              "<div>\n",
              "<style scoped>\n",
              "    .dataframe tbody tr th:only-of-type {\n",
              "        vertical-align: middle;\n",
              "    }\n",
              "\n",
              "    .dataframe tbody tr th {\n",
              "        vertical-align: top;\n",
              "    }\n",
              "\n",
              "    .dataframe thead th {\n",
              "        text-align: right;\n",
              "    }\n",
              "</style>\n",
              "<table border=\"1\" class=\"dataframe\">\n",
              "  <thead>\n",
              "    <tr style=\"text-align: right;\">\n",
              "      <th></th>\n",
              "      <th>foo</th>\n",
              "      <th>bar</th>\n",
              "    </tr>\n",
              "  </thead>\n",
              "  <tbody>\n",
              "    <tr>\n",
              "      <th>a</th>\n",
              "      <td>11</td>\n",
              "      <td>11</td>\n",
              "    </tr>\n",
              "    <tr>\n",
              "      <th>b</th>\n",
              "      <td>11</td>\n",
              "      <td>11</td>\n",
              "    </tr>\n",
              "    <tr>\n",
              "      <th>c</th>\n",
              "      <td>11</td>\n",
              "      <td>11</td>\n",
              "    </tr>\n",
              "  </tbody>\n",
              "</table>\n",
              "</div>"
            ],
            "text/plain": [
              "   foo  bar\n",
              "a   11   11\n",
              "b   11   11\n",
              "c   11   11"
            ]
          },
          "metadata": {
            "tags": []
          },
          "execution_count": 24
        }
      ]
    },
    {
      "cell_type": "code",
      "metadata": {
        "colab": {
          "base_uri": "https://localhost:8080/"
        },
        "id": "p_ahbUtnF81j",
        "outputId": "55a3b7ce-dbe8-4839-9c73-6ab2a716d3a2"
      },
      "source": [
        "ind = pd.Index([20, 34, 57, 7, 1, 8])\n",
        "ind"
      ],
      "execution_count": 25,
      "outputs": [
        {
          "output_type": "execute_result",
          "data": {
            "text/plain": [
              "Int64Index([20, 34, 57, 7, 1, 8], dtype='int64')"
            ]
          },
          "metadata": {
            "tags": []
          },
          "execution_count": 25
        }
      ]
    },
    {
      "cell_type": "code",
      "metadata": {
        "colab": {
          "base_uri": "https://localhost:8080/"
        },
        "id": "fntJPF0CGHS1",
        "outputId": "8ed7531c-d6db-454f-8176-3c41588490eb"
      },
      "source": [
        "ind[1]"
      ],
      "execution_count": 28,
      "outputs": [
        {
          "output_type": "execute_result",
          "data": {
            "text/plain": [
              "34"
            ]
          },
          "metadata": {
            "tags": []
          },
          "execution_count": 28
        }
      ]
    },
    {
      "cell_type": "code",
      "metadata": {
        "colab": {
          "base_uri": "https://localhost:8080/"
        },
        "id": "foG0YbzeHPga",
        "outputId": "02a666ef-5be1-4a90-bda5-64995b6e6576"
      },
      "source": [
        "print(ind.size, ind.shape, ind.ndim, ind.dtype)"
      ],
      "execution_count": 29,
      "outputs": [
        {
          "output_type": "stream",
          "text": [
            "6 (6,) 1 int64\n"
          ],
          "name": "stdout"
        }
      ]
    },
    {
      "cell_type": "code",
      "metadata": {
        "colab": {
          "base_uri": "https://localhost:8080/"
        },
        "id": "x-xwuOVOGHoy",
        "outputId": "e6d58a12-a01d-404e-a892-ca354616c621"
      },
      "source": [
        "ind[::]"
      ],
      "execution_count": 27,
      "outputs": [
        {
          "output_type": "execute_result",
          "data": {
            "text/plain": [
              "Int64Index([20, 34, 57, 7, 1, 8], dtype='int64')"
            ]
          },
          "metadata": {
            "tags": []
          },
          "execution_count": 27
        }
      ]
    },
    {
      "cell_type": "code",
      "metadata": {
        "colab": {
          "base_uri": "https://localhost:8080/",
          "height": 282
        },
        "id": "sPTZLA8dHUkf",
        "outputId": "4394ea78-e166-41b3-918f-15a4dbeecd84"
      },
      "source": [
        "ind[1]=0"
      ],
      "execution_count": 30,
      "outputs": [
        {
          "output_type": "error",
          "ename": "TypeError",
          "evalue": "ignored",
          "traceback": [
            "\u001b[0;31m---------------------------------------------------------------------------\u001b[0m",
            "\u001b[0;31mTypeError\u001b[0m                                 Traceback (most recent call last)",
            "\u001b[0;32m<ipython-input-30-b10b243764e2>\u001b[0m in \u001b[0;36m<module>\u001b[0;34m()\u001b[0m\n\u001b[0;32m----> 1\u001b[0;31m \u001b[0mind\u001b[0m\u001b[0;34m[\u001b[0m\u001b[0;36m1\u001b[0m\u001b[0;34m]\u001b[0m\u001b[0;34m=\u001b[0m\u001b[0;36m0\u001b[0m\u001b[0;34m\u001b[0m\u001b[0;34m\u001b[0m\u001b[0m\n\u001b[0m",
            "\u001b[0;32m/usr/local/lib/python3.7/dist-packages/pandas/core/indexes/base.py\u001b[0m in \u001b[0;36m__setitem__\u001b[0;34m(self, key, value)\u001b[0m\n\u001b[1;32m   4082\u001b[0m \u001b[0;34m\u001b[0m\u001b[0m\n\u001b[1;32m   4083\u001b[0m     \u001b[0;32mdef\u001b[0m \u001b[0m__setitem__\u001b[0m\u001b[0;34m(\u001b[0m\u001b[0mself\u001b[0m\u001b[0;34m,\u001b[0m \u001b[0mkey\u001b[0m\u001b[0;34m,\u001b[0m \u001b[0mvalue\u001b[0m\u001b[0;34m)\u001b[0m\u001b[0;34m:\u001b[0m\u001b[0;34m\u001b[0m\u001b[0;34m\u001b[0m\u001b[0m\n\u001b[0;32m-> 4084\u001b[0;31m         \u001b[0;32mraise\u001b[0m \u001b[0mTypeError\u001b[0m\u001b[0;34m(\u001b[0m\u001b[0;34m\"Index does not support mutable operations\"\u001b[0m\u001b[0;34m)\u001b[0m\u001b[0;34m\u001b[0m\u001b[0;34m\u001b[0m\u001b[0m\n\u001b[0m\u001b[1;32m   4085\u001b[0m \u001b[0;34m\u001b[0m\u001b[0m\n\u001b[1;32m   4086\u001b[0m     \u001b[0;32mdef\u001b[0m \u001b[0m__getitem__\u001b[0m\u001b[0;34m(\u001b[0m\u001b[0mself\u001b[0m\u001b[0;34m,\u001b[0m \u001b[0mkey\u001b[0m\u001b[0;34m)\u001b[0m\u001b[0;34m:\u001b[0m\u001b[0;34m\u001b[0m\u001b[0;34m\u001b[0m\u001b[0m\n",
            "\u001b[0;31mTypeError\u001b[0m: Index does not support mutable operations"
          ]
        }
      ]
    },
    {
      "cell_type": "code",
      "metadata": {
        "colab": {
          "base_uri": "https://localhost:8080/"
        },
        "id": "naWRB6p-HVRS",
        "outputId": "d588f7a2-a4b8-40a4-b27c-37221e98c021"
      },
      "source": [
        "rng = np.random.RandomState(15)\n",
        "ser = pd.Series(rng.randint(0, 10, 4))\n",
        "ser"
      ],
      "execution_count": 31,
      "outputs": [
        {
          "output_type": "execute_result",
          "data": {
            "text/plain": [
              "0    8\n",
              "1    5\n",
              "2    5\n",
              "3    7\n",
              "dtype: int64"
            ]
          },
          "metadata": {
            "tags": []
          },
          "execution_count": 31
        }
      ]
    },
    {
      "cell_type": "code",
      "metadata": {
        "colab": {
          "base_uri": "https://localhost:8080/"
        },
        "id": "px7ptgOeHVoo",
        "outputId": "bc0f94a8-ec6f-490a-a37d-71ff75243ab7"
      },
      "source": [
        "np.exp(ser)"
      ],
      "execution_count": 34,
      "outputs": [
        {
          "output_type": "execute_result",
          "data": {
            "text/plain": [
              "0    2980.957987\n",
              "1     148.413159\n",
              "2     148.413159\n",
              "3    1096.633158\n",
              "dtype: float64"
            ]
          },
          "metadata": {
            "tags": []
          },
          "execution_count": 34
        }
      ]
    },
    {
      "cell_type": "code",
      "metadata": {
        "colab": {
          "base_uri": "https://localhost:8080/",
          "height": 163
        },
        "id": "6Hpv5ORbRadN",
        "outputId": "af4eaac9-991a-42db-bae2-90a2da21c3c1"
      },
      "source": [
        "np.sin(dfr * np.pi / 4)"
      ],
      "execution_count": 36,
      "outputs": [
        {
          "output_type": "error",
          "ename": "NameError",
          "evalue": "ignored",
          "traceback": [
            "\u001b[0;31m---------------------------------------------------------------------------\u001b[0m",
            "\u001b[0;31mNameError\u001b[0m                                 Traceback (most recent call last)",
            "\u001b[0;32m<ipython-input-36-a99a523aa759>\u001b[0m in \u001b[0;36m<module>\u001b[0;34m()\u001b[0m\n\u001b[0;32m----> 1\u001b[0;31m \u001b[0mnp\u001b[0m\u001b[0;34m.\u001b[0m\u001b[0msin\u001b[0m\u001b[0;34m(\u001b[0m\u001b[0mdfr\u001b[0m \u001b[0;34m*\u001b[0m \u001b[0mnp\u001b[0m\u001b[0;34m.\u001b[0m\u001b[0mpi\u001b[0m \u001b[0;34m/\u001b[0m \u001b[0;36m4\u001b[0m\u001b[0;34m)\u001b[0m\u001b[0;34m\u001b[0m\u001b[0;34m\u001b[0m\u001b[0m\n\u001b[0m",
            "\u001b[0;31mNameError\u001b[0m: name 'dfr' is not defined"
          ]
        }
      ]
    },
    {
      "cell_type": "code",
      "metadata": {
        "colab": {
          "base_uri": "https://localhost:8080/"
        },
        "id": "LfehSQqCRaz5",
        "outputId": "30ed585e-3fea-4c52-ce0e-52f5943f1300"
      },
      "source": [
        "area = pd.Series({'Alaska': 1723337, 'Texas': 695662,\n",
        "                  'California': 423967}, name='area')\n",
        "population = pd.Series({'California': 38332521, 'Texas': 26448193,\n",
        "                        'New York': 19651127}, name='population')\n",
        "print(area)\n",
        "population"
      ],
      "execution_count": 37,
      "outputs": [
        {
          "output_type": "stream",
          "text": [
            "Alaska        1723337\n",
            "Texas          695662\n",
            "California     423967\n",
            "Name: area, dtype: int64\n"
          ],
          "name": "stdout"
        },
        {
          "output_type": "execute_result",
          "data": {
            "text/plain": [
              "California    38332521\n",
              "Texas         26448193\n",
              "New York      19651127\n",
              "Name: population, dtype: int64"
            ]
          },
          "metadata": {
            "tags": []
          },
          "execution_count": 37
        }
      ]
    },
    {
      "cell_type": "code",
      "metadata": {
        "colab": {
          "base_uri": "https://localhost:8080/"
        },
        "id": "FvmoJCizR3Kg",
        "outputId": "a88ec647-f4dc-4ae9-c67d-131c629791b7"
      },
      "source": [
        "population / area"
      ],
      "execution_count": 38,
      "outputs": [
        {
          "output_type": "execute_result",
          "data": {
            "text/plain": [
              "Alaska              NaN\n",
              "California    90.413926\n",
              "New York            NaN\n",
              "Texas         38.018740\n",
              "dtype: float64"
            ]
          },
          "metadata": {
            "tags": []
          },
          "execution_count": 38
        }
      ]
    },
    {
      "cell_type": "code",
      "metadata": {
        "colab": {
          "base_uri": "https://localhost:8080/"
        },
        "id": "n5tMlbZ7R3jz",
        "outputId": "a28e1cb1-296b-4bd8-8bfb-6b87bc3c2cc6"
      },
      "source": [
        "area.index | population.index"
      ],
      "execution_count": 39,
      "outputs": [
        {
          "output_type": "execute_result",
          "data": {
            "text/plain": [
              "Index(['Alaska', 'California', 'New York', 'Texas'], dtype='object')"
            ]
          },
          "metadata": {
            "tags": []
          },
          "execution_count": 39
        }
      ]
    },
    {
      "cell_type": "code",
      "metadata": {
        "colab": {
          "base_uri": "https://localhost:8080/"
        },
        "id": "7DabH6wGSSJ8",
        "outputId": "fc4416dc-6607-42d7-c56a-99d67d0c25de"
      },
      "source": [
        "A = pd.Series([2, 4, 6], index=[0, 1, 2])\n",
        "B = pd.Series([1, 3, 5], index=[1, 2, 3])\n",
        "print(A)\n",
        "print(B)\n",
        "B\n",
        "A + B"
      ],
      "execution_count": 40,
      "outputs": [
        {
          "output_type": "stream",
          "text": [
            "0    2\n",
            "1    4\n",
            "2    6\n",
            "dtype: int64\n",
            "1    1\n",
            "2    3\n",
            "3    5\n",
            "dtype: int64\n"
          ],
          "name": "stdout"
        },
        {
          "output_type": "execute_result",
          "data": {
            "text/plain": [
              "0    NaN\n",
              "1    5.0\n",
              "2    9.0\n",
              "3    NaN\n",
              "dtype: float64"
            ]
          },
          "metadata": {
            "tags": []
          },
          "execution_count": 40
        }
      ]
    },
    {
      "cell_type": "code",
      "metadata": {
        "colab": {
          "base_uri": "https://localhost:8080/"
        },
        "id": "bT66QXyhSSfR",
        "outputId": "67140af8-ad91-4c0a-a69d-0e2e42a62370"
      },
      "source": [
        "A.add(B, fill_value=0)"
      ],
      "execution_count": 41,
      "outputs": [
        {
          "output_type": "execute_result",
          "data": {
            "text/plain": [
              "0    2.0\n",
              "1    5.0\n",
              "2    9.0\n",
              "3    5.0\n",
              "dtype: float64"
            ]
          },
          "metadata": {
            "tags": []
          },
          "execution_count": 41
        }
      ]
    },
    {
      "cell_type": "code",
      "metadata": {
        "colab": {
          "base_uri": "https://localhost:8080/",
          "height": 204
        },
        "id": "cF8WbGNuSYks",
        "outputId": "29c6cf2e-2a86-46f5-fd51-e8bb476f5aa4"
      },
      "source": [
        "df"
      ],
      "execution_count": 42,
      "outputs": [
        {
          "output_type": "execute_result",
          "data": {
            "text/html": [
              "<div>\n",
              "<style scoped>\n",
              "    .dataframe tbody tr th:only-of-type {\n",
              "        vertical-align: middle;\n",
              "    }\n",
              "\n",
              "    .dataframe tbody tr th {\n",
              "        vertical-align: top;\n",
              "    }\n",
              "\n",
              "    .dataframe thead th {\n",
              "        text-align: right;\n",
              "    }\n",
              "</style>\n",
              "<table border=\"1\" class=\"dataframe\">\n",
              "  <thead>\n",
              "    <tr style=\"text-align: right;\">\n",
              "      <th></th>\n",
              "      <th>Year</th>\n",
              "      <th>Province</th>\n",
              "      <th>Literacy</th>\n",
              "      <th>nonsense</th>\n",
              "      <th>Serie_aligned</th>\n",
              "    </tr>\n",
              "  </thead>\n",
              "  <tbody>\n",
              "    <tr>\n",
              "      <th>0</th>\n",
              "      <td>2013</td>\n",
              "      <td>FL</td>\n",
              "      <td>0.2</td>\n",
              "      <td>10065.000000</td>\n",
              "      <td>0</td>\n",
              "    </tr>\n",
              "    <tr>\n",
              "      <th>1</th>\n",
              "      <td>2014</td>\n",
              "      <td>FL</td>\n",
              "      <td>0.1</td>\n",
              "      <td>20140.000000</td>\n",
              "      <td>1</td>\n",
              "    </tr>\n",
              "    <tr>\n",
              "      <th>2</th>\n",
              "      <td>2013</td>\n",
              "      <td>NH</td>\n",
              "      <td>0.5</td>\n",
              "      <td>4026.000000</td>\n",
              "      <td>2</td>\n",
              "    </tr>\n",
              "    <tr>\n",
              "      <th>3</th>\n",
              "      <td>2014</td>\n",
              "      <td>NH</td>\n",
              "      <td>0.3</td>\n",
              "      <td>6713.333333</td>\n",
              "      <td>3</td>\n",
              "    </tr>\n",
              "    <tr>\n",
              "      <th>4</th>\n",
              "      <td>2014</td>\n",
              "      <td>ZH</td>\n",
              "      <td>0.5</td>\n",
              "      <td>4028.000000</td>\n",
              "      <td>4</td>\n",
              "    </tr>\n",
              "  </tbody>\n",
              "</table>\n",
              "</div>"
            ],
            "text/plain": [
              "   Year Province  Literacy      nonsense  Serie_aligned\n",
              "0  2013       FL       0.2  10065.000000              0\n",
              "1  2014       FL       0.1  20140.000000              1\n",
              "2  2013       NH       0.5   4026.000000              2\n",
              "3  2014       NH       0.3   6713.333333              3\n",
              "4  2014       ZH       0.5   4028.000000              4"
            ]
          },
          "metadata": {
            "tags": []
          },
          "execution_count": 42
        }
      ]
    },
    {
      "cell_type": "code",
      "metadata": {
        "colab": {
          "base_uri": "https://localhost:8080/",
          "height": 142
        },
        "id": "vOIoNBBlSY6m",
        "outputId": "df49d738-3fad-4b0b-d2aa-452010bacc99"
      },
      "source": [
        "df2 = pd.DataFrame({\"Province\": [\"FL\", \"NH\", \"ZH\"], \"Population\": [\"100000\", \"200000\", \"300000\"]})\n",
        "df2"
      ],
      "execution_count": 43,
      "outputs": [
        {
          "output_type": "execute_result",
          "data": {
            "text/html": [
              "<div>\n",
              "<style scoped>\n",
              "    .dataframe tbody tr th:only-of-type {\n",
              "        vertical-align: middle;\n",
              "    }\n",
              "\n",
              "    .dataframe tbody tr th {\n",
              "        vertical-align: top;\n",
              "    }\n",
              "\n",
              "    .dataframe thead th {\n",
              "        text-align: right;\n",
              "    }\n",
              "</style>\n",
              "<table border=\"1\" class=\"dataframe\">\n",
              "  <thead>\n",
              "    <tr style=\"text-align: right;\">\n",
              "      <th></th>\n",
              "      <th>Province</th>\n",
              "      <th>Population</th>\n",
              "    </tr>\n",
              "  </thead>\n",
              "  <tbody>\n",
              "    <tr>\n",
              "      <th>0</th>\n",
              "      <td>FL</td>\n",
              "      <td>100000</td>\n",
              "    </tr>\n",
              "    <tr>\n",
              "      <th>1</th>\n",
              "      <td>NH</td>\n",
              "      <td>200000</td>\n",
              "    </tr>\n",
              "    <tr>\n",
              "      <th>2</th>\n",
              "      <td>ZH</td>\n",
              "      <td>300000</td>\n",
              "    </tr>\n",
              "  </tbody>\n",
              "</table>\n",
              "</div>"
            ],
            "text/plain": [
              "  Province Population\n",
              "0       FL     100000\n",
              "1       NH     200000\n",
              "2       ZH     300000"
            ]
          },
          "metadata": {
            "tags": []
          },
          "execution_count": 43
        }
      ]
    },
    {
      "cell_type": "code",
      "metadata": {
        "colab": {
          "base_uri": "https://localhost:8080/",
          "height": 204
        },
        "id": "SHUg28Z4Ti3l",
        "outputId": "bf7b4598-25f1-46cd-f8f2-3ecba689ee3a"
      },
      "source": [
        "df.merge(df2)"
      ],
      "execution_count": 44,
      "outputs": [
        {
          "output_type": "execute_result",
          "data": {
            "text/html": [
              "<div>\n",
              "<style scoped>\n",
              "    .dataframe tbody tr th:only-of-type {\n",
              "        vertical-align: middle;\n",
              "    }\n",
              "\n",
              "    .dataframe tbody tr th {\n",
              "        vertical-align: top;\n",
              "    }\n",
              "\n",
              "    .dataframe thead th {\n",
              "        text-align: right;\n",
              "    }\n",
              "</style>\n",
              "<table border=\"1\" class=\"dataframe\">\n",
              "  <thead>\n",
              "    <tr style=\"text-align: right;\">\n",
              "      <th></th>\n",
              "      <th>Year</th>\n",
              "      <th>Province</th>\n",
              "      <th>Literacy</th>\n",
              "      <th>nonsense</th>\n",
              "      <th>Serie_aligned</th>\n",
              "      <th>Population</th>\n",
              "    </tr>\n",
              "  </thead>\n",
              "  <tbody>\n",
              "    <tr>\n",
              "      <th>0</th>\n",
              "      <td>2013</td>\n",
              "      <td>FL</td>\n",
              "      <td>0.2</td>\n",
              "      <td>10065.000000</td>\n",
              "      <td>0</td>\n",
              "      <td>100000</td>\n",
              "    </tr>\n",
              "    <tr>\n",
              "      <th>1</th>\n",
              "      <td>2014</td>\n",
              "      <td>FL</td>\n",
              "      <td>0.1</td>\n",
              "      <td>20140.000000</td>\n",
              "      <td>1</td>\n",
              "      <td>100000</td>\n",
              "    </tr>\n",
              "    <tr>\n",
              "      <th>2</th>\n",
              "      <td>2013</td>\n",
              "      <td>NH</td>\n",
              "      <td>0.5</td>\n",
              "      <td>4026.000000</td>\n",
              "      <td>2</td>\n",
              "      <td>200000</td>\n",
              "    </tr>\n",
              "    <tr>\n",
              "      <th>3</th>\n",
              "      <td>2014</td>\n",
              "      <td>NH</td>\n",
              "      <td>0.3</td>\n",
              "      <td>6713.333333</td>\n",
              "      <td>3</td>\n",
              "      <td>200000</td>\n",
              "    </tr>\n",
              "    <tr>\n",
              "      <th>4</th>\n",
              "      <td>2014</td>\n",
              "      <td>ZH</td>\n",
              "      <td>0.5</td>\n",
              "      <td>4028.000000</td>\n",
              "      <td>4</td>\n",
              "      <td>300000</td>\n",
              "    </tr>\n",
              "  </tbody>\n",
              "</table>\n",
              "</div>"
            ],
            "text/plain": [
              "   Year Province  Literacy      nonsense  Serie_aligned Population\n",
              "0  2013       FL       0.2  10065.000000              0     100000\n",
              "1  2014       FL       0.1  20140.000000              1     100000\n",
              "2  2013       NH       0.5   4026.000000              2     200000\n",
              "3  2014       NH       0.3   6713.333333              3     200000\n",
              "4  2014       ZH       0.5   4028.000000              4     300000"
            ]
          },
          "metadata": {
            "tags": []
          },
          "execution_count": 44
        }
      ]
    },
    {
      "cell_type": "code",
      "metadata": {
        "colab": {
          "base_uri": "https://localhost:8080/",
          "height": 173
        },
        "id": "ZPYqJttITjNQ",
        "outputId": "e8685a9e-92a2-48ff-f0d4-d329106eb8dc"
      },
      "source": [
        "df3 = pd.DataFrame({\"province\": [\"FL\", \"NH\"], \"Population\": [\"100000\", \"200000\"]})\n",
        "df3\n",
        "df.merge(df3, right_on='province', left_on='Province')"
      ],
      "execution_count": 45,
      "outputs": [
        {
          "output_type": "execute_result",
          "data": {
            "text/html": [
              "<div>\n",
              "<style scoped>\n",
              "    .dataframe tbody tr th:only-of-type {\n",
              "        vertical-align: middle;\n",
              "    }\n",
              "\n",
              "    .dataframe tbody tr th {\n",
              "        vertical-align: top;\n",
              "    }\n",
              "\n",
              "    .dataframe thead th {\n",
              "        text-align: right;\n",
              "    }\n",
              "</style>\n",
              "<table border=\"1\" class=\"dataframe\">\n",
              "  <thead>\n",
              "    <tr style=\"text-align: right;\">\n",
              "      <th></th>\n",
              "      <th>Year</th>\n",
              "      <th>Province</th>\n",
              "      <th>Literacy</th>\n",
              "      <th>nonsense</th>\n",
              "      <th>Serie_aligned</th>\n",
              "      <th>province</th>\n",
              "      <th>Population</th>\n",
              "    </tr>\n",
              "  </thead>\n",
              "  <tbody>\n",
              "    <tr>\n",
              "      <th>0</th>\n",
              "      <td>2013</td>\n",
              "      <td>FL</td>\n",
              "      <td>0.2</td>\n",
              "      <td>10065.000000</td>\n",
              "      <td>0</td>\n",
              "      <td>FL</td>\n",
              "      <td>100000</td>\n",
              "    </tr>\n",
              "    <tr>\n",
              "      <th>1</th>\n",
              "      <td>2014</td>\n",
              "      <td>FL</td>\n",
              "      <td>0.1</td>\n",
              "      <td>20140.000000</td>\n",
              "      <td>1</td>\n",
              "      <td>FL</td>\n",
              "      <td>100000</td>\n",
              "    </tr>\n",
              "    <tr>\n",
              "      <th>2</th>\n",
              "      <td>2013</td>\n",
              "      <td>NH</td>\n",
              "      <td>0.5</td>\n",
              "      <td>4026.000000</td>\n",
              "      <td>2</td>\n",
              "      <td>NH</td>\n",
              "      <td>200000</td>\n",
              "    </tr>\n",
              "    <tr>\n",
              "      <th>3</th>\n",
              "      <td>2014</td>\n",
              "      <td>NH</td>\n",
              "      <td>0.3</td>\n",
              "      <td>6713.333333</td>\n",
              "      <td>3</td>\n",
              "      <td>NH</td>\n",
              "      <td>200000</td>\n",
              "    </tr>\n",
              "  </tbody>\n",
              "</table>\n",
              "</div>"
            ],
            "text/plain": [
              "   Year Province  Literacy      nonsense  Serie_aligned province Population\n",
              "0  2013       FL       0.2  10065.000000              0       FL     100000\n",
              "1  2014       FL       0.1  20140.000000              1       FL     100000\n",
              "2  2013       NH       0.5   4026.000000              2       NH     200000\n",
              "3  2014       NH       0.3   6713.333333              3       NH     200000"
            ]
          },
          "metadata": {
            "tags": []
          },
          "execution_count": 45
        }
      ]
    },
    {
      "cell_type": "code",
      "metadata": {
        "colab": {
          "base_uri": "https://localhost:8080/",
          "height": 235
        },
        "id": "2TWXZRagTqlB",
        "outputId": "c7e25443-b261-4738-eb37-d1dfde21d0bc"
      },
      "source": [
        "df4 = pd.DataFrame({\"Province\": [\"FL\", \"NH\", \"UT\"], \"Population\": [\"100000\", \"200000\", \"50000\"]})\n",
        "df.merge(df4, how='outer')"
      ],
      "execution_count": 46,
      "outputs": [
        {
          "output_type": "execute_result",
          "data": {
            "text/html": [
              "<div>\n",
              "<style scoped>\n",
              "    .dataframe tbody tr th:only-of-type {\n",
              "        vertical-align: middle;\n",
              "    }\n",
              "\n",
              "    .dataframe tbody tr th {\n",
              "        vertical-align: top;\n",
              "    }\n",
              "\n",
              "    .dataframe thead th {\n",
              "        text-align: right;\n",
              "    }\n",
              "</style>\n",
              "<table border=\"1\" class=\"dataframe\">\n",
              "  <thead>\n",
              "    <tr style=\"text-align: right;\">\n",
              "      <th></th>\n",
              "      <th>Year</th>\n",
              "      <th>Province</th>\n",
              "      <th>Literacy</th>\n",
              "      <th>nonsense</th>\n",
              "      <th>Serie_aligned</th>\n",
              "      <th>Population</th>\n",
              "    </tr>\n",
              "  </thead>\n",
              "  <tbody>\n",
              "    <tr>\n",
              "      <th>0</th>\n",
              "      <td>2013.0</td>\n",
              "      <td>FL</td>\n",
              "      <td>0.2</td>\n",
              "      <td>10065.000000</td>\n",
              "      <td>0.0</td>\n",
              "      <td>100000</td>\n",
              "    </tr>\n",
              "    <tr>\n",
              "      <th>1</th>\n",
              "      <td>2014.0</td>\n",
              "      <td>FL</td>\n",
              "      <td>0.1</td>\n",
              "      <td>20140.000000</td>\n",
              "      <td>1.0</td>\n",
              "      <td>100000</td>\n",
              "    </tr>\n",
              "    <tr>\n",
              "      <th>2</th>\n",
              "      <td>2013.0</td>\n",
              "      <td>NH</td>\n",
              "      <td>0.5</td>\n",
              "      <td>4026.000000</td>\n",
              "      <td>2.0</td>\n",
              "      <td>200000</td>\n",
              "    </tr>\n",
              "    <tr>\n",
              "      <th>3</th>\n",
              "      <td>2014.0</td>\n",
              "      <td>NH</td>\n",
              "      <td>0.3</td>\n",
              "      <td>6713.333333</td>\n",
              "      <td>3.0</td>\n",
              "      <td>200000</td>\n",
              "    </tr>\n",
              "    <tr>\n",
              "      <th>4</th>\n",
              "      <td>2014.0</td>\n",
              "      <td>ZH</td>\n",
              "      <td>0.5</td>\n",
              "      <td>4028.000000</td>\n",
              "      <td>4.0</td>\n",
              "      <td>NaN</td>\n",
              "    </tr>\n",
              "    <tr>\n",
              "      <th>5</th>\n",
              "      <td>NaN</td>\n",
              "      <td>UT</td>\n",
              "      <td>NaN</td>\n",
              "      <td>NaN</td>\n",
              "      <td>NaN</td>\n",
              "      <td>50000</td>\n",
              "    </tr>\n",
              "  </tbody>\n",
              "</table>\n",
              "</div>"
            ],
            "text/plain": [
              "     Year Province  Literacy      nonsense  Serie_aligned Population\n",
              "0  2013.0       FL       0.2  10065.000000            0.0     100000\n",
              "1  2014.0       FL       0.1  20140.000000            1.0     100000\n",
              "2  2013.0       NH       0.5   4026.000000            2.0     200000\n",
              "3  2014.0       NH       0.3   6713.333333            3.0     200000\n",
              "4  2014.0       ZH       0.5   4028.000000            4.0        NaN\n",
              "5     NaN       UT       NaN           NaN            NaN      50000"
            ]
          },
          "metadata": {
            "tags": []
          },
          "execution_count": 46
        }
      ]
    },
    {
      "cell_type": "code",
      "metadata": {
        "colab": {
          "base_uri": "https://localhost:8080/",
          "height": 368
        },
        "id": "mORv3aX3Tq7J",
        "outputId": "416f1470-811e-4921-c852-3fab5b5d5aa7"
      },
      "source": [
        "df5 = pd.DataFrame({\"Province\": [\"FL\", \"NH\", \"FL\"], \"Population\": [\"100000\", \"200000\", \"50000\"]})\n",
        "print(df)\n",
        "df.merge(df5, how='outer')"
      ],
      "execution_count": 47,
      "outputs": [
        {
          "output_type": "stream",
          "text": [
            "   Year Province  Literacy      nonsense  Serie_aligned\n",
            "0  2013       FL       0.2  10065.000000              0\n",
            "1  2014       FL       0.1  20140.000000              1\n",
            "2  2013       NH       0.5   4026.000000              2\n",
            "3  2014       NH       0.3   6713.333333              3\n",
            "4  2014       ZH       0.5   4028.000000              4\n"
          ],
          "name": "stdout"
        },
        {
          "output_type": "execute_result",
          "data": {
            "text/html": [
              "<div>\n",
              "<style scoped>\n",
              "    .dataframe tbody tr th:only-of-type {\n",
              "        vertical-align: middle;\n",
              "    }\n",
              "\n",
              "    .dataframe tbody tr th {\n",
              "        vertical-align: top;\n",
              "    }\n",
              "\n",
              "    .dataframe thead th {\n",
              "        text-align: right;\n",
              "    }\n",
              "</style>\n",
              "<table border=\"1\" class=\"dataframe\">\n",
              "  <thead>\n",
              "    <tr style=\"text-align: right;\">\n",
              "      <th></th>\n",
              "      <th>Year</th>\n",
              "      <th>Province</th>\n",
              "      <th>Literacy</th>\n",
              "      <th>nonsense</th>\n",
              "      <th>Serie_aligned</th>\n",
              "      <th>Population</th>\n",
              "    </tr>\n",
              "  </thead>\n",
              "  <tbody>\n",
              "    <tr>\n",
              "      <th>0</th>\n",
              "      <td>2013</td>\n",
              "      <td>FL</td>\n",
              "      <td>0.2</td>\n",
              "      <td>10065.000000</td>\n",
              "      <td>0</td>\n",
              "      <td>100000</td>\n",
              "    </tr>\n",
              "    <tr>\n",
              "      <th>1</th>\n",
              "      <td>2013</td>\n",
              "      <td>FL</td>\n",
              "      <td>0.2</td>\n",
              "      <td>10065.000000</td>\n",
              "      <td>0</td>\n",
              "      <td>50000</td>\n",
              "    </tr>\n",
              "    <tr>\n",
              "      <th>2</th>\n",
              "      <td>2014</td>\n",
              "      <td>FL</td>\n",
              "      <td>0.1</td>\n",
              "      <td>20140.000000</td>\n",
              "      <td>1</td>\n",
              "      <td>100000</td>\n",
              "    </tr>\n",
              "    <tr>\n",
              "      <th>3</th>\n",
              "      <td>2014</td>\n",
              "      <td>FL</td>\n",
              "      <td>0.1</td>\n",
              "      <td>20140.000000</td>\n",
              "      <td>1</td>\n",
              "      <td>50000</td>\n",
              "    </tr>\n",
              "    <tr>\n",
              "      <th>4</th>\n",
              "      <td>2013</td>\n",
              "      <td>NH</td>\n",
              "      <td>0.5</td>\n",
              "      <td>4026.000000</td>\n",
              "      <td>2</td>\n",
              "      <td>200000</td>\n",
              "    </tr>\n",
              "    <tr>\n",
              "      <th>5</th>\n",
              "      <td>2014</td>\n",
              "      <td>NH</td>\n",
              "      <td>0.3</td>\n",
              "      <td>6713.333333</td>\n",
              "      <td>3</td>\n",
              "      <td>200000</td>\n",
              "    </tr>\n",
              "    <tr>\n",
              "      <th>6</th>\n",
              "      <td>2014</td>\n",
              "      <td>ZH</td>\n",
              "      <td>0.5</td>\n",
              "      <td>4028.000000</td>\n",
              "      <td>4</td>\n",
              "      <td>NaN</td>\n",
              "    </tr>\n",
              "  </tbody>\n",
              "</table>\n",
              "</div>"
            ],
            "text/plain": [
              "   Year Province  Literacy      nonsense  Serie_aligned Population\n",
              "0  2013       FL       0.2  10065.000000              0     100000\n",
              "1  2013       FL       0.2  10065.000000              0      50000\n",
              "2  2014       FL       0.1  20140.000000              1     100000\n",
              "3  2014       FL       0.1  20140.000000              1      50000\n",
              "4  2013       NH       0.5   4026.000000              2     200000\n",
              "5  2014       NH       0.3   6713.333333              3     200000\n",
              "6  2014       ZH       0.5   4028.000000              4        NaN"
            ]
          },
          "metadata": {
            "tags": []
          },
          "execution_count": 47
        }
      ]
    },
    {
      "cell_type": "code",
      "metadata": {
        "id": "J0dFk36zT4C0"
      },
      "source": [
        "serie_a = pd.Series([np.nan, 2.5, np.nan, 3.5, 4.5, np.nan],\n",
        "                     index=['f', 'e', 'd', 'c', 'b', 'a'])\n",
        "serie_b = pd.Series(np.arange(len(serie_a), dtype=np.float64),\n",
        "                 index=['f', 'e', 'd', 'c', 'b', 'a'])"
      ],
      "execution_count": 48,
      "outputs": []
    },
    {
      "cell_type": "code",
      "metadata": {
        "colab": {
          "base_uri": "https://localhost:8080/"
        },
        "id": "9Se0MtBdT4js",
        "outputId": "cec941d8-8f94-4e7c-d21e-a6062894485c"
      },
      "source": [
        "serie_a"
      ],
      "execution_count": 49,
      "outputs": [
        {
          "output_type": "execute_result",
          "data": {
            "text/plain": [
              "f    NaN\n",
              "e    2.5\n",
              "d    NaN\n",
              "c    3.5\n",
              "b    4.5\n",
              "a    NaN\n",
              "dtype: float64"
            ]
          },
          "metadata": {
            "tags": []
          },
          "execution_count": 49
        }
      ]
    },
    {
      "cell_type": "code",
      "metadata": {
        "colab": {
          "base_uri": "https://localhost:8080/"
        },
        "id": "n9DReR1aT46_",
        "outputId": "84f605f1-5917-4bb4-aea5-edb383de07b8"
      },
      "source": [
        "serie_b"
      ],
      "execution_count": 50,
      "outputs": [
        {
          "output_type": "execute_result",
          "data": {
            "text/plain": [
              "f    0.0\n",
              "e    1.0\n",
              "d    2.0\n",
              "c    3.0\n",
              "b    4.0\n",
              "a    5.0\n",
              "dtype: float64"
            ]
          },
          "metadata": {
            "tags": []
          },
          "execution_count": 50
        }
      ]
    },
    {
      "cell_type": "code",
      "metadata": {
        "colab": {
          "base_uri": "https://localhost:8080/"
        },
        "id": "YPN0UPNET5U3",
        "outputId": "449da6d2-9e59-4d75-c6ad-9e30ae626a3d"
      },
      "source": [
        "pd.Series(np.where(pd.isnull(serie_a), serie_b, serie_a), index=serie_a.index)"
      ],
      "execution_count": 51,
      "outputs": [
        {
          "output_type": "execute_result",
          "data": {
            "text/plain": [
              "f    0.0\n",
              "e    2.5\n",
              "d    2.0\n",
              "c    3.5\n",
              "b    4.5\n",
              "a    5.0\n",
              "dtype: float64"
            ]
          },
          "metadata": {
            "tags": []
          },
          "execution_count": 51
        }
      ]
    },
    {
      "cell_type": "code",
      "metadata": {
        "colab": {
          "base_uri": "https://localhost:8080/"
        },
        "id": "HcTUPba4ULJ-",
        "outputId": "c93c2662-89ab-4b38-b948-f043f9e588fd"
      },
      "source": [
        "serie_a.combine_first(serie_b)"
      ],
      "execution_count": 52,
      "outputs": [
        {
          "output_type": "execute_result",
          "data": {
            "text/plain": [
              "f    0.0\n",
              "e    2.5\n",
              "d    2.0\n",
              "c    3.5\n",
              "b    4.5\n",
              "a    5.0\n",
              "dtype: float64"
            ]
          },
          "metadata": {
            "tags": []
          },
          "execution_count": 52
        }
      ]
    }
  ]
}